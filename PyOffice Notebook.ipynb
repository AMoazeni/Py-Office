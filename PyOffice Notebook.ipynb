{
  "nbformat": 4,
  "nbformat_minor": 0,
  "metadata": {
    "kernelspec": {
      "display_name": "Python 3",
      "language": "python",
      "name": "python3"
    },
    "language_info": {
      "codemirror_mode": {
        "name": "ipython",
        "version": 3
      },
      "file_extension": ".py",
      "mimetype": "text/x-python",
      "name": "python",
      "nbconvert_exporter": "python",
      "pygments_lexer": "ipython3",
      "version": "3.7.4"
    },
    "colab": {
      "name": "PyOffice.ipynb",
      "provenance": [],
      "toc_visible": true
    }
  },
  "cells": [
    {
      "cell_type": "markdown",
      "metadata": {
        "id": "q8BwzQ4Zvw_6",
        "colab_type": "text"
      },
      "source": [
        "<div align=\"center\">\n",
        "\n",
        "# **PYTHON OFFICE**\n",
        "\n",
        "<div align=\"Left\">\n",
        "\n",
        "#### **Author:** AMoazeni\n",
        "#### **Licence:** MIT \n",
        "\n",
        "<div align=\"left\">\n",
        "\n",
        "Business workflow automation tools with Python. Free up time by automating routine and repetitive office taks with batch management of Spreadsheets, Wordprocessor Documents, and Emails.\n",
        "\n",
        "<div align=\"center\">\n",
        "\n",
        "<br>\n",
        "\n",
        "<img sr='https://media.giphy.com/media/fsoCk5kgOcYMM/giphy.gif' width='70%'>\n",
        "\n",
        "<img sr='https://media.giphy.com/media/l1IY5NRhxdCJYxsmA/giphy.gif' width='70%'>\n",
        "\n",
        "\n",
        "<br><br>"
      ]
    },
    {
      "cell_type": "markdown",
      "metadata": {
        "id": "mC_V2uF6awzo",
        "colab_type": "text"
      },
      "source": [
        "<div align=\"Left\">\n",
        "\n",
        "# **0. RUN THE PY-OFFICE NOTEBOOK**\n",
        "\n",
        "### 0.1 Run In The Cloud (Google Colab Notebook)\n",
        "Python is already installed on a Google Colab Notebook cloud instances. You need a Gmail account to use Colab Notebooks, and Google provides 12GB RAM and 50GB Storage on their cloud.\n",
        "\n",
        "1. Go to the [Py-Office Colab Notebook](https://colab.research.google.com/drive/1MeWwYxGbOyjlNpG7j3jzWzqeIO5VXA3p)\n",
        "\n",
        "2. Click the 'Open In Playground' button on the top left of the screen.\n",
        "\n",
        "3. Log-in using a Gmail account.\n",
        "\n",
        "4. Click the the '▶️ Run Cell' buttons on the Left side of each code cell or run all cells with **Runtime --> Run All**.\n",
        "\n",
        "<br>\n",
        "\n",
        "### 0.2 Local Installation (Python Anaconda - Jupyter Notebook)\n",
        "Use this link to [install Python Anaconda 3.X](https://www.anaconda.com/distribution/) on your local computer and use Jupyter Notebook to open the [Py-Office Notebook](https://github.com/AMoazeni/Py-Office/archive/master.zip) found at 'Github.com/AMoazeni/Py-Office'.\n",
        "\n",
        "```python\n",
        "git clone https://github.com/AMoazeni/Py-Office.git\n",
        "cd Py-Office\n",
        "pip install -r requirements.txt\n",
        "cd Py-Office/Notebooks\n",
        "jupyter notebook Py-Office.ipynb \n",
        "```\n",
        "\n",
        "<br>\n",
        "\n",
        "### 0.3 Install Dependencies\n",
        "Click the '▶️ Run Cell' button next to the code cell below. You can also select the code cell and run the code with the '**CRTL + ENTER**' keyboard shortcut.\n",
        "\n",
        "The '!pip' magic command lets you install open-source Python libraries. Anaconda pre-install several popular Python libraries like TensorFlow and NumPy. Get a full list of the [1,500+ Python Pachages Installed with Anaconda](https://docs.anaconda.com/anaconda/packages/pkg-docs/).\n"
      ]
    },
    {
      "cell_type": "markdown",
      "metadata": {
        "id": "zW4tiT6uhDKT",
        "colab_type": "text"
      },
      "source": [
        "```\n",
        "# Py-Office Requirements.txt\n",
        "bs4 == 0.0.1\n",
        "pandas == 0.25.3\n",
        "selenium == 3.141.0\n",
        "ipywidgets == 7.5.1\n",
        "numpy == 1.17.3\n",
        "matplotlib = 3.1.1\n",
        "\n",
        "```\n",
        "\n",
        "\n",
        "\n"
      ]
    },
    {
      "cell_type": "code",
      "metadata": {
        "id": "F6izOdxRgRLR",
        "colab_type": "code",
        "colab": {}
      },
      "source": [
        "!pip list"
      ],
      "execution_count": 0,
      "outputs": []
    },
    {
      "cell_type": "code",
      "metadata": {
        "id": "85Y1ncQX4pfm",
        "colab_type": "code",
        "colab": {}
      },
      "source": [
        "!pip install bs4 selenium pandas ipywidgets"
      ],
      "execution_count": 0,
      "outputs": []
    },
    {
      "cell_type": "code",
      "metadata": {
        "id": "sbMk10Gq3OkU",
        "colab_type": "code",
        "colab": {}
      },
      "source": [
        "!jupyter nbextension enable --py widgetsnbextension"
      ],
      "execution_count": 0,
      "outputs": []
    },
    {
      "cell_type": "code",
      "metadata": {
        "id": "TyzaNoA83qFP",
        "colab_type": "code",
        "colab": {}
      },
      "source": [
        ""
      ],
      "execution_count": 0,
      "outputs": []
    },
    {
      "cell_type": "code",
      "metadata": {
        "id": "G_WdOr1f3p_B",
        "colab_type": "code",
        "colab": {}
      },
      "source": [
        ""
      ],
      "execution_count": 0,
      "outputs": []
    },
    {
      "cell_type": "code",
      "metadata": {
        "id": "Oyx_F1ve3pUU",
        "colab_type": "code",
        "colab": {}
      },
      "source": [
        ""
      ],
      "execution_count": 0,
      "outputs": []
    },
    {
      "cell_type": "markdown",
      "metadata": {
        "id": "Md5TTIlm5pZW",
        "colab_type": "text"
      },
      "source": [
        "# **1 . IMPORT .CSV DATASET**\n",
        "\n",
        "Install [Python 3.X Anaconda](https://www.anaconda.com/distribution/#download-section) and download the [PyOffice Github](https://www.github.com/amoazeni/PyOffice) Repository. Unzip the folder and place your .CSV Dataset in the '**CSV Data**' folder.\n",
        "\n",
        "<div align=\"center\" >\n",
        "<img src='https://github.com/AMoazeni/PyOffice/blob/master/img/git.png?raw=true' width=70%>\n",
        "</div>\n",
        "<br>\n",
        "\n",
        "### 1.1 Export .CSV Data From Microsoft Excel.\n",
        "<div align=\"center\" >\n",
        "<img src='https://cdn.ablebits.com/_img-blog/excel-csv/save-excel-csv.png' width=70%>\n",
        "</div>\n",
        "<br>\n",
        "\n",
        "### 1.2 Export .CSV Data From Google Docs.\n",
        "<div align=\"center\" >\n",
        "<img src='https://lh3.googleusercontent.com/wtKtoKgudmVkaI1pRc2SeN25GsATlFB54HgVv57rf9akOA4H_A6TLT3g67yC_VUnRq2E-WetMIAdbNp_7NuISPRsqXAi7S7NIGRzrD6c34nz1EGFqifH84R09p0XxrfBNIl5mSnl' width=70%>\n",
        "</div>\n",
        "<br>\n",
        "\n",
        "\n",
        "\n",
        "\n",
        "\n",
        "\n",
        "\n"
      ]
    },
    {
      "cell_type": "code",
      "metadata": {
        "id": "lpjuVzdh3r5F",
        "colab_type": "code",
        "colab": {
          "base_uri": "https://localhost:8080/",
          "height": 131
        },
        "outputId": "f87e19be-ad21-43d3-88bf-ff3e99bf9088"
      },
      "source": [
        "from IPython.display import Image\n",
        "from IPython.core.display import HTML \n",
        "EXCEL_CSV_URL = \"https://cdn.ablebits.com/_img-blog/excel-csv/save-excel-csv.png\"\n",
        "Image(EXCEL_CSV_URL, width=30%)"
      ],
      "execution_count": 9,
      "outputs": [
        {
          "output_type": "error",
          "ename": "SyntaxError",
          "evalue": "ignored",
          "traceback": [
            "\u001b[0;36m  File \u001b[0;32m\"<ipython-input-9-4d7f1788b28e>\"\u001b[0;36m, line \u001b[0;32m4\u001b[0m\n\u001b[0;31m    Image(EXCEL_CSV_URL, width=30%)\u001b[0m\n\u001b[0m                                  ^\u001b[0m\n\u001b[0;31mSyntaxError\u001b[0m\u001b[0;31m:\u001b[0m invalid syntax\n"
          ]
        }
      ]
    },
    {
      "cell_type": "code",
      "metadata": {
        "id": "_t5swjmb3rs1",
        "colab_type": "code",
        "colab": {}
      },
      "source": [
        ""
      ],
      "execution_count": 0,
      "outputs": []
    },
    {
      "cell_type": "markdown",
      "metadata": {
        "id": "HQJvp-sD4pfl",
        "colab_type": "text"
      },
      "source": [
        "# **2. SPREADSHEETS (XLSX, CSV)**\n",
        "Comma-Separated Values (CSV) is a tabular file format where each line of the file is a data record. CSV files use commas to separate values into rows and columns.\n",
        "\n",
        "Example CSVs found on [Kaggle.com](https://www.kaggle.com/datasets?sort=votes&fileType=csv).\n"
      ]
    },
    {
      "cell_type": "markdown",
      "metadata": {
        "id": "pfHFsIhGf2PL",
        "colab_type": "text"
      },
      "source": [
        ""
      ]
    },
    {
      "cell_type": "code",
      "metadata": {
        "id": "GRAxGAH5P_xm",
        "colab_type": "code",
        "colab": {}
      },
      "source": [
        "import os\n",
        "import csv\n",
        "import re\n",
        "from urllib.request import urlopen\n",
        "from bs4 import BeautifulSoup\n",
        "\n",
        "# Get HTML file from URL as a Beautiful Soup object\n",
        "html = urlopen('http://en.wikipedia.org/wiki/Comparison_of_text_editors')\n",
        "bs = BeautifulSoup(html, 'html.parser')\n",
        "\n",
        "# Create a CSV file for each table in the page\n",
        "tables = bs.find('table',{'class':'wikitable'})[0]\n",
        "rows = tables.find('tr')\n",
        "for table in range(len(tables)):\n",
        "  print('Table {}:\\n'.format(table), tables[table].find('td'), end='\\n\\n\\n\\n\\n\\n\\n\\n')\n",
        "\n",
        "#csvFile = open('editors.csv', 'wt+')\n",
        "#writer = csv.writer(csvFile)\n",
        "\n"
      ],
      "execution_count": 0,
      "outputs": []
    },
    {
      "cell_type": "code",
      "metadata": {
        "id": "AJ04Nl2ZXSCT",
        "colab_type": "code",
        "colab": {}
      },
      "source": [
        "# Get URL Links from Page\n",
        "html = urlopen('http://en.wikipedia.org/wiki/Comparison_of_text_editors')\n",
        "bs = BeautifulSoup(html, 'html.parser')\n",
        "tables = bs.find_all('a')\n",
        "for tag in bs.find_all('a', href = re.compile('http')):\n",
        "  if 'href' in tag.attrs:\n",
        "    print(tag.attrs['href'])\n",
        "\n",
        "\n",
        "  "
      ],
      "execution_count": 0,
      "outputs": []
    },
    {
      "cell_type": "code",
      "metadata": {
        "id": "HC6AZbKrmAsU",
        "colab_type": "code",
        "colab": {}
      },
      "source": [
        "import os\n",
        "import csv\n",
        "import re\n",
        "from urllib.request import urlopen\n",
        "from bs4 import BeautifulSoup\n",
        "from IPython.display import Image\n",
        "from IPython.core.display import HTML \n",
        "\n",
        "html = urlopen('https://en.wikipedia.org/wiki/2019_Rugby_World_Cup')\n",
        "bs = BeautifulSoup(html, 'html.parser')\n",
        "tables = bs.find_all('a')\n",
        "for tag in bs.find_all('img'):\n",
        "  # Print Image \n",
        "  print(tag.attrs['src'])\n",
        "\n",
        "for i in range(len(bs.find_all('img'))):\n",
        "  print('Image {}:\\n'.format(i))\n",
        "  Image(url = bs.find_all('img')[i].attrs['src'])\n",
        "\n",
        "\n",
        "\n",
        "    "
      ],
      "execution_count": 0,
      "outputs": []
    },
    {
      "cell_type": "code",
      "metadata": {
        "colab_type": "code",
        "id": "ylrzrytAa7k7",
        "colab": {}
      },
      "source": [
        "# //upload.wikimedia.org/wikipedia/en/thumb/b/be/Flag_of_England.svg/23px-Flag_of_England.svg.png\n",
        "\n",
        "import os\n",
        "import csv\n",
        "import re\n",
        "from urllib.request import urlopen\n",
        "from bs4 import BeautifulSoup\n",
        "from IPython.display import display, Image\n",
        "from IPython.core.display import HTML\n",
        "import requests\n",
        "\n",
        "\n",
        "session = requests.Session()\n",
        "headers = {'User-Agent':'Mozilla/5.0 (Windows NT 10.0; Win64; x64) AppleWebKit/537.36 (KHTML, like Gecko) Chrome/78.0.3904.97 Safari/537.36'}\n",
        "\n",
        "root_url = 'https://www.yahoo.com'\n",
        "req = session.get(root_url, headers=headers)\n",
        "bs = BeautifulSoup(req.text, 'html.parser')\n",
        "\n",
        "# Standard Python URLlib\n",
        "#html = urlopen(root_url)\n",
        "#bs = BeautifulSoup(html, 'html.parser')\n",
        "\n",
        "img_num = len(bs.find_all('img'))\n",
        "count = img_num\n",
        "\n",
        "for image in bs.find_all('img'):\n",
        "  print('\\n\\nImage {}:'.format(img_num - count))\n",
        "  count = count - 1\n",
        "  try:\n",
        "    img_url = image.attrs['src']\n",
        "    print(img_url)\n",
        "    display(Image(url=img_url, retina=True))\n",
        "  except:\n",
        "    img_url = image.contents\n",
        "    print(img_url)\n",
        "\n",
        "  \n"
      ],
      "execution_count": 0,
      "outputs": []
    },
    {
      "cell_type": "code",
      "metadata": {
        "id": "TaI3tG3IQpgn",
        "colab_type": "code",
        "colab": {}
      },
      "source": [
        "#!/usr/bin/env python\n",
        "from re import findall,sub\n",
        "from lxml import html\n",
        "from time import sleep\n",
        "from selenium import webdriver\n",
        "from pprint import pprint\n",
        "from xvfbwrapper import Xvfb\n",
        "\n",
        "\n",
        "def parse(url):\n",
        "    searchKey = \"Las Vegas\" # Change this to your city \n",
        "    checkInDate = '27/08/2016' #Format %d/%m/%Y\n",
        "    checkOutDate = '29/08/2016' #Format %d/%m/%Y\n",
        "    response = webdriver.Firefox()\n",
        "    response.get(url)\n",
        "    searchKeyElement = response.find_elements_by_xpath('//input[contains(@id,\"destination\")]')\n",
        "    checkInElement = response.find_elements_by_xpath('//input[contains(@class,\"check-in\")]')\n",
        "    checkOutElement = response.find_elements_by_xpath('//input[contains(@class,\"check-out\")]')\n",
        "    submitButton = response.find_elements_by_xpath('//button[@type=\"submit\"]')\n",
        "    if searchKeyElement and checkInElement and checkOutElement:\n",
        "        searchKeyElement[0].send_keys(searchKey)\n",
        "        checkInElement[0].clear()\n",
        "        checkInElement[0].send_keys(checkInDate)\n",
        "        checkOutElement[0].clear()\n",
        "        checkOutElement[0].send_keys(checkOutDate)\n",
        "        randomClick = response.find_elements_by_xpath('//h1')\n",
        "        if randomClick:\n",
        "            randomClick[0].click()\n",
        "        submitButton[0].click()\n",
        "        sleep(15)\n",
        "        dropDownButton = response.find_elements_by_xpath('//fieldset[contains(@id,\"dropdown\")]')\n",
        "        if dropDownButton:\n",
        "            dropDownButton[0].click()\n",
        "            priceLowtoHigh = response.find_elements_by_xpath('//li[contains(text(),\"low to high\")]')\n",
        "            if priceLowtoHigh:\n",
        "                priceLowtoHigh[0].click()\n",
        "                sleep(10)\n",
        "\n",
        "    parser = html.fromstring(response.page_source,response.current_url)\n",
        "    hotels = parser.xpath('//div[@class=\"hotel-wrap\"]')\n",
        "    for hotel in hotels[:5]: #Replace 5 with 1 to just get the cheapest hotel\n",
        "        hotelName = hotel.xpath('.//h3/a')\n",
        "        hotelName = hotelName[0].text_content() if hotelName else None\n",
        "        price = hotel.xpath('.//div[@class=\"price\"]/a//ins')\n",
        "        price = price[0].text_content().replace(\",\",\"\").strip() if price else None\n",
        "        if price==None:\n",
        "            price = hotel.xpath('.//div[@class=\"price\"]/a')\n",
        "            price = price[0].text_content().replace(\",\",\"\").strip() if price else None\n",
        "        price = findall('([\\d\\.]+)',price) if price else None\n",
        "        price = price[0] if price else None\n",
        "        rating = hotel.xpath('.//div[@class=\"star-rating\"]/span/@data-star-rating')\n",
        "        rating = rating[0] if rating else None\n",
        "        address = hotel.xpath('.//span[contains(@class,\"locality\")]')\n",
        "        address = \"\".join([x.text_content() for x in address]) if address else None\n",
        "        locality = hotel.xpath('.//span[contains(@class,\"locality\")]')\n",
        "        locality = locality[0].text_content().replace(\",\",\"\").strip() if locality else None\n",
        "        region = hotel.xpath('.//span[contains(@class,\"locality\")]')\n",
        "        region = region[0].text_content().replace(\",\",\"\").strip() if region else None\n",
        "        postalCode = hotel.xpath('.//span[contains(@class,\"postal-code\")]')\n",
        "        postalCode = postalCode[0].text_content().replace(\",\",\"\").strip() if postalCode else None\n",
        "        countryName = hotel.xpath('.//span[contains(@class,\"country-name\")]')\n",
        "        countryName = countryName[0].text_content().replace(\",\",\"\").strip() if countryName else None\n",
        "\n",
        "        item = {\n",
        "                    \"hotelName\":hotelName,\n",
        "                    \"price\":price,\n",
        "                    \"rating\":rating,\n",
        "                    \"address\":address,\n",
        "                    \"locality\":locality,\n",
        "                    \"region\":region,\n",
        "                    \"postalCode\":postalCode,\n",
        "                    \"countryName\":countryName,\n",
        "        }\n",
        "        pprint(item)\n",
        "if __name__ == '__main__':\n",
        "#    vdisplay = Xvfb()\n",
        "#    vdisplay.start()\n",
        "    driver = webdriver.Firefox(executable_path=\"/usr/bin/geckodriver\")\n",
        "    !chmod +x geckodriver\n",
        "    parse('http://www.hotels.com')\n",
        "#    vdisplay.stop()"
      ],
      "execution_count": 0,
      "outputs": []
    },
    {
      "cell_type": "code",
      "metadata": {
        "id": "TFxrspdaFrGR",
        "colab_type": "code",
        "colab": {}
      },
      "source": [
        "import datetime\n",
        "from bs4 import BeautifulSoup\n",
        "import time\n",
        "import selenium\n",
        "from selenium import webdriver\n",
        "import re\n",
        "\n",
        "keyword = 'blue+skateboard'\n",
        "driver = webdriver.Chrome()\n",
        "\n",
        "url = 'https://www.amazon.co.uk/s/ref=nb_sb_noss_2?url=search-alias%3Daps&field-keywords={}'\n",
        "\n",
        "driver.get(url.format(keyword))\n",
        "soup = BeautifulSoup(driver.page_source, 'lxml')\n",
        "results = soup.select('.s-result-list [data-asin]')\n",
        "\n",
        "for a, b in enumerate(results):\n",
        "    soup = b\n",
        "    header = soup.select_one('h5')\n",
        "    result = a + 1\n",
        "    title = header.text.strip()\n",
        "\n",
        "    try:\n",
        "        link = soup.select_one('h5 > a')\n",
        "        url = link['href']\n",
        "        url = re.sub(r'/ref=.*', '', str(url))\n",
        "    except:\n",
        "        url = \"None\"\n",
        "\n",
        "    if url !='/gp/slredirect/picassoRedirect.html':\n",
        "        ASIN = re.sub(r'.*/dp/', '', str(url))\n",
        "        #print(ASIN)\n",
        "\n",
        "        try:\n",
        "            score = soup.select_one('.a-icon-alt')\n",
        "            score = score.text\n",
        "            score = score.strip('\\n')\n",
        "            score = re.sub(r' .*', '', str(score))\n",
        "        except:\n",
        "            score = \"None\"\n",
        "\n",
        "        try:\n",
        "            reviews = soup.select_one(\"href*='#customerReviews']\")\n",
        "            reviews = reviews.text.strip()\n",
        "        except:\n",
        "            reviews = \"None\"\n",
        "\n",
        "        try:\n",
        "            PRIME = soup.select_one('[aria-label=\"Amazon Prime\"]')\n",
        "            PRIME = PRIME['aria-label']\n",
        "        except:\n",
        "            PRIME = \"None\"\n",
        "        data = {keyword:[keyword,str(result),title,ASIN,score,reviews,PRIME,datetime.datetime.today().strftime(\"%B %d, %Y\")]}\n",
        "        print(data)"
      ],
      "execution_count": 0,
      "outputs": []
    },
    {
      "cell_type": "code",
      "metadata": {
        "id": "nZCKrbF6TDvp",
        "colab_type": "code",
        "colab": {}
      },
      "source": [
        "\n",
        "for row in rows:\n",
        "  csvRow = []\n",
        "for cell in row.findAll(['table']):\n",
        "  csvRow.append(cell.get_text())\n",
        "  writer.writerow(csvRow)\n",
        "  print(cell)\n",
        "\n",
        "csvFile.close()\n",
        "# Print CSV File\n",
        "os.chdir(os.getcwd())\n",
        "with open('editors.csv', newline='') as csvfile:\n",
        "  spamreader = csv.reader(csvfile, delimiter=',')\n",
        "  for row in spamreader:\n",
        "    print(', '.join(row))"
      ],
      "execution_count": 0,
      "outputs": []
    },
    {
      "cell_type": "markdown",
      "metadata": {
        "id": "vOjoIeO1x8rF",
        "colab_type": "text"
      },
      "source": [
        "### 2.1 Get Data From Web"
      ]
    },
    {
      "cell_type": "code",
      "metadata": {
        "id": "gl3lDdD72Kvk",
        "colab_type": "code",
        "colab": {}
      },
      "source": [
        "import csv\n",
        "import os\n",
        "import pandas as pd\n",
        "\n",
        "def csv_import(csv_online_path = 'https://raw.githubusercontent.com/AMoazeni/Machine-Learning-Stock-Market-Prediction/master/Data/Google_Stock_Price_Train.csv'):\n",
        "  try:\n",
        "    \n",
        "    pd_csv = pd.read_csv(csv_online_path)\n",
        "    \n",
        "    with open('new.csv', 'w+', newline='') as f:\n",
        "      writer = csv.writer(f)\n",
        "      writer.writerows(pd_csv)\n",
        "      print('CSV_Import function completed for CSV for path:\\n', csv_online_path, end='\\n\\n')\n",
        "      return pd_csv\n",
        "\n",
        "  except BaseException as e:\n",
        "    print('Error: ', e, end='\\n\\n')\n",
        "    return e\n",
        "\n",
        "  finally:\n",
        "    print('End Of CSV Import Function.', end='\\n\\n')\n",
        "\n",
        "csv_online_path = 'https://raw.githubusercontent.com/AMoazeni/Machine-Learning-Stock-Market-Prediction/master/Data/Google_Stock_Price_Train.csv'\n",
        "csv_import(csv_online_path)\n",
        "\n"
      ],
      "execution_count": 0,
      "outputs": []
    },
    {
      "cell_type": "markdown",
      "metadata": {
        "id": "DBoNjZORxjJj",
        "colab_type": "text"
      },
      "source": [
        "### 2.2 Import from MS Excel and Google Sheets"
      ]
    },
    {
      "cell_type": "code",
      "metadata": {
        "id": "bWqWixrP2Ayh",
        "colab_type": "code",
        "colab": {}
      },
      "source": [
        ""
      ],
      "execution_count": 0,
      "outputs": []
    },
    {
      "cell_type": "code",
      "metadata": {
        "id": "K1kbL8KY7tqb",
        "colab_type": "code",
        "outputId": "b69ea77b-c39c-4946-e1a9-9746afafd652",
        "colab": {
          "base_uri": "https://localhost:8080/",
          "height": 173
        }
      },
      "source": [
        "import pandas as pd\n",
        "\n",
        "csv_online_path = 'https://raw.githubusercontent.com/AMoazeni/Machine-Learning-Stock-Market-Prediction/master/Data/Google_Stock_Price_Train.csv'\n",
        "pd_csv = pd.read_csv(csv_online_path)\n",
        "#pd_csv.info()\n",
        "#rows = pd_csv.shape[0]\n",
        "#print('Rows: ', row_len)\n",
        "#print('Rows: ', col_len)\n",
        "#pd_csv.describe()\n",
        "\n",
        "\n",
        "csv_file = 'new.csv'\n",
        "\n",
        "root_path = os.getcwd()\n",
        "csv_path = root_path + '/csv_data'\n",
        "\n",
        "\n",
        "try:\n",
        "  if not os.path.exists(csv_path):\n",
        "    os.mkdir(csv_path)\n",
        "    os.chdir(csv_path)\n",
        "    print('New csv_data folder created at:\\n', csv_path, end='\\n\\n')\n",
        "\n",
        "  else:\n",
        "    os.chdir(csv_path)\n",
        "    print('csv_data folder already existed, current working directory set to:\\n', csv_path, end='\\n\\n')\n",
        "      \n",
        "  with open(csv_file, 'w+', newline='') as f:\n",
        "    pd_csv.to_csv(f, sep='\\t', encoding='utf-8')\n",
        "    print('CSV file \"{}\" written to path:\\n'.format(csv_file), csv_path, end='\\n\\n')\n",
        "    f.close()\n",
        "    \n",
        "except BaseException as e:\n",
        "  print('Error Creating CSV_Data Folder: ', e, end='\\n\\n')\n",
        "\n",
        "finally:\n",
        "  os.chdir(root_path)\n",
        "  print('Finally, the working directory is set back to:\\n', root_path, end='\\n\\n')\n",
        "\n"
      ],
      "execution_count": 0,
      "outputs": [
        {
          "output_type": "stream",
          "text": [
            "csv_data folder already existed, current working directory set to:\n",
            " /content/csv_data\n",
            "\n",
            "CSV file \"new.csv\" written to path:\n",
            " /content/csv_data\n",
            "\n",
            "Finally, the working directory is set back to:\n",
            " /content\n",
            "\n"
          ],
          "name": "stdout"
        }
      ]
    },
    {
      "cell_type": "code",
      "metadata": {
        "id": "UPwGjIQ9zXzi",
        "colab_type": "code",
        "outputId": "feb1065e-2412-4527-e0f7-9dcfd355b550",
        "colab": {
          "base_uri": "https://localhost:8080/",
          "height": 87
        }
      },
      "source": [
        "print(root_path)\n",
        "print(csv_path)\n",
        "print(csv_file)\n",
        "os.chdir('/content')\n",
        "print(os.getcwd())"
      ],
      "execution_count": 0,
      "outputs": [
        {
          "output_type": "stream",
          "text": [
            "/content/csv_data\n",
            "/content/csv_data/csv_data\n",
            "new.csv\n",
            "/content\n"
          ],
          "name": "stdout"
        }
      ]
    },
    {
      "cell_type": "code",
      "metadata": {
        "id": "Ryy3iAXeuo8S",
        "colab_type": "code",
        "outputId": "c056e0fe-5b9e-43e2-e305-a19dcf8a9df4",
        "colab": {
          "base_uri": "https://localhost:8080/",
          "height": 104
        }
      },
      "source": [
        "import os\n",
        "print(os.chdir('/content'))\n",
        "print('Current Working Directory: \\n', os.getcwd(), end='\\n\\n')\n",
        "os.ch\n",
        "%ls"
      ],
      "execution_count": 0,
      "outputs": [
        {
          "output_type": "stream",
          "text": [
            "None\n",
            "Current Working Directory: \n",
            " /content\n",
            "\n",
            "new.csv  \u001b[0m\u001b[01;34msample_data\u001b[0m/\n"
          ],
          "name": "stdout"
        }
      ]
    },
    {
      "cell_type": "code",
      "metadata": {
        "id": "1dvAu-zEx-i4",
        "colab_type": "code",
        "colab": {}
      },
      "source": [
        ""
      ],
      "execution_count": 0,
      "outputs": []
    },
    {
      "cell_type": "markdown",
      "metadata": {
        "id": "kufG52_r4_ha",
        "colab_type": "text"
      },
      "source": [
        "## 2.3 Data Visualization"
      ]
    },
    {
      "cell_type": "markdown",
      "metadata": {
        "id": "6TNhG8qH4pfo",
        "colab_type": "text"
      },
      "source": [
        "# **3. WORD PROCESSOR (DOCX, PDF, TXT)**"
      ]
    },
    {
      "cell_type": "code",
      "metadata": {
        "id": "5NGI8Rx14pfo",
        "colab_type": "code",
        "colab": {}
      },
      "source": [
        "# Install these libraries: 'pip3 install python-docx', 'pip install pypandoc'\n",
        "\n",
        "from docx import Document\n",
        "import csv\n",
        "import os\n",
        "import shutil\n",
        "import pypandoc\n",
        "import subprocess\n",
        "\n",
        "subprocess.run([\"ls\", \"-l\"])\n",
        "\n",
        "# Set this folder as 'working directory'.\n",
        "\n",
        "# Path to MS Word .DOCX document template and MS Excel database.\n",
        "# Add custom keywords to first of .CSV file and .DOCX template.\n",
        "DOC_NAME = 'Document.docx'\n",
        "SHEET_NAME = 'Sheet.csv'\n",
        "\n",
        "RES_DIR = 'Results'\n",
        "RES_FILE_NAME = 'Result.docx'\n",
        "\n",
        "# Create results folder.\n",
        "if os.path.exists(RES_DIR):\n",
        "    shutil.rmtree(RES_DIR)\n",
        "os.makedirs(RES_DIR)\n",
        "\n",
        "\n",
        "# Function: Replace keywords in Document with data from .CSV database.\n",
        "# Save Document as .PDF in folders created in the root directory.\n",
        "def CSV_To_PDF(keywords, info, count):    \n",
        "    doc = Document(DOC_NAME)\n",
        "    \n",
        "    # Replace loop for each column\n",
        "    for i in range(len(keywords)):\n",
        "        for p in doc.paragraphs:\n",
        "            if keywords[i] in p.text:\n",
        "                inline = p.runs\n",
        "                # Loop added to work with runs (strings with same style)\n",
        "                for j in range(len(inline)):\n",
        "                    if keywords[i] in inline[j].text:\n",
        "                        text = inline[j].text.replace(keywords[i], info[i])\n",
        "                        inline[j].text = text\n",
        "\n",
        "    file_path = RES_DIR + '/' + str(count) + ' - ' + str(info[1]) + ', ' + str(info[2]) + '/'\n",
        "    \n",
        "    # Create results folder.\n",
        "    if os.path.exists(file_path):\n",
        "        shutil.rmtree(file_path)\n",
        "    os.makedirs(file_path)\n",
        "        \n",
        "    file_path_save = file_path + RES_FILE_NAME\n",
        "    doc.save(file_path_save)\n",
        "    \n",
        "    return 1\n",
        "\n",
        "\n",
        "# Create a blank document.\n",
        "#doc = Document()\n",
        " \n",
        "# Add a styled paragraph.\n",
        "#p = doc.add_paragraph('Lorem ipsum dolor sit amet.', style='Heading 1')\n",
        "#p.add_run('bold').bold = True\n",
        "#p.add_run(' and some ')\n",
        "#p.add_run('italic.').italic = True\n",
        "\n",
        "# Add a simple paragraph.\n",
        "#doc.add_paragraph('Lorem ipsum dolor sit amet.', style='paragraph')\n",
        "\n",
        "# Open an existing document.\n",
        "doc = Document(DOC_NAME)\n",
        "\n",
        "# Parse CSV    \n",
        "csv_read = csv.reader(open(SHEET_NAME, 'rt'))\n",
        "rows = []\n",
        "\n",
        "for line in csv_read:\n",
        "  print(line)\n",
        "  rows.append(line)\n",
        "\n",
        "count = 0\n",
        "       \n",
        "for row in rows:\n",
        "    keywords = rows[0]\n",
        "    info = row\n",
        "    CSV_To_PDF(keywords, info, count)\n",
        "    count += 1\n",
        "\n"
      ],
      "execution_count": 0,
      "outputs": []
    },
    {
      "cell_type": "markdown",
      "metadata": {
        "id": "40FPLaNY4pft",
        "colab_type": "text"
      },
      "source": [
        "# **4. EMAIL (GMAIL, OUTLOOK)**\n"
      ]
    },
    {
      "cell_type": "code",
      "metadata": {
        "id": "wdexKsw-4pfu",
        "colab_type": "code",
        "colab": {}
      },
      "source": [
        ""
      ],
      "execution_count": 0,
      "outputs": []
    },
    {
      "cell_type": "markdown",
      "metadata": {
        "id": "Ruy-HvR44pfv",
        "colab_type": "text"
      },
      "source": [
        "# PyOffice Object\n",
        "Document Processing, SpreadSheets, and Email with Python."
      ]
    },
    {
      "cell_type": "code",
      "metadata": {
        "id": "A8ZaaGxA710y",
        "colab_type": "code",
        "outputId": "bf668253-58b3-4a10-dab2-5377bfe5838f",
        "colab": {
          "base_uri": "https://localhost:8080/",
          "height": 243
        }
      },
      "source": [
        "import os\n",
        "import csv\n",
        "import re\n",
        "from urllib.request import urlopen\n",
        "from bs4 import BeautifulSoup\n",
        "\n",
        "# Sample Data\n",
        "my_url = 'https://www.yahoo.com/'\n",
        "\n",
        "my_urls = ['https://www.yahoo.com/',\n",
        "            'https://www.microsoft.com/',\n",
        "            'https://www.google.com/'\n",
        "          ]\n",
        "\n",
        "# Get HTML file from URL as a Beautiful Soup object\n",
        "html = urlopen('http://en.wikipedia.org/wiki/Comparison_of_text_editors')\n",
        "bs = BeautifulSoup(html, 'html.parser')\n",
        "bs.find('title')\n",
        "\n",
        "urls = []\n",
        "soups = []\n",
        "\n",
        "for arg_index, url in enumerate(my_urls):\n",
        "    print('Index = [{}]:\\n'.format(arg_index), url, end='\\n\\n')\n",
        "    urls.append(url)\n",
        "    bs = BeautifulSoup(urlopen(url), 'html.parser')\n",
        "    soups.append(bs)\n",
        "    print(bs.find('title'))\n",
        "\n",
        "soup = BeautifulSoup(urlopen(my_url), 'html.parser')\n",
        "print('URL: ', url, end='\\n')\n",
        "print('URL Title: ', bs.find('title'), end='\\n')\n",
        "\n",
        "print('URLs:\\n', urls)\n",
        "\n"
      ],
      "execution_count": 0,
      "outputs": [
        {
          "output_type": "stream",
          "text": [
            "Index = [0]:\n",
            " https://www.yahoo.com/\n",
            "\n",
            "<title>Yahoo</title>\n",
            "Index = [1]:\n",
            " https://www.microsoft.com/\n",
            "\n",
            "<title>Access Denied</title>\n",
            "Index = [2]:\n",
            " https://www.google.com/\n",
            "\n",
            "<title>Google</title>\n"
          ],
          "name": "stdout"
        },
        {
          "output_type": "execute_result",
          "data": {
            "text/plain": [
              "3"
            ]
          },
          "metadata": {
            "tags": []
          },
          "execution_count": 23
        }
      ]
    },
    {
      "cell_type": "code",
      "metadata": {
        "id": "3hAKWh9e4pfw",
        "colab_type": "code",
        "outputId": "28724406-ee3d-4864-d71c-46587a28cf12",
        "colab": {
          "base_uri": "https://localhost:8080/",
          "height": 156
        }
      },
      "source": [
        "#!/usr/bin/env python\n",
        "\n",
        "# Import Libraries\n",
        "import csv\n",
        "import re\n",
        "from urllib.request import urlopen\n",
        "\n",
        "import bs4 as BeautifulSoup\n",
        "import pandas\n",
        "\n",
        "\n",
        "#import ipywidgets\n",
        "#import selenium\n",
        "#import numpy\n",
        "#import matplotlib\n",
        "\n",
        "# Print Imported Library Methods\n",
        "#lib_methods = dir(csv)\n",
        "#print('CSV Built-In Library Methods:\\n', lib_methods, end='\\n\\n')\n",
        "\n",
        "# Sample Class Definition\n",
        "class PyOffice:\n",
        "  def __init__(self):\n",
        "    self.sample_website = 'https://www.yahoo.com/'\n",
        "    self.sample_csv = 'https://raw.githubusercontent.com/AMoazeni/PyOffice/master/googleplaystore.csv'\n",
        "    pass\n",
        "\n",
        "  def print_name(self):\n",
        "    print(\"The class name is \" + self.name)\n",
        "\n",
        "  def OpenUrl(self, *args, **kwargs):\n",
        "    # Initialize\n",
        "    print('', end='\\n\\n')\n",
        "  \n",
        "    # Try block\n",
        "    try:\n",
        "      # Iterating over Python *args itterators\n",
        "      print('Opening Url:\\n')\n",
        "      soup = BeautifulSoup(urlopen(args), 'html.parser')\n",
        "      print('URL: ', url, end='\\n')\n",
        "      print('URL Title: ', bs.find('title'), end='\\n')\n",
        "\n",
        "      print('URLs:\\n', urls)\n",
        "  \n",
        "      return soup\n",
        "  \n",
        "    # Error Handler\n",
        "    except BaseException as e:\n",
        "      print('Error: \\n', e, end='\\n\\n')\n",
        "      return e\n",
        "  \n",
        "    # Clean up block\n",
        "    finally:\n",
        "      pass\n",
        "\n",
        "\n",
        "\n",
        "# Sample Data\n",
        "my_url = 'https://www.yahoo.com/'\n",
        "\n",
        "my_urls = ['https://www.yahoo.com/',\n",
        "            'https://www.microsoft.com/',\n",
        "            'https://www.google.com/'\n",
        "          ]\n",
        "  \n",
        "# OpenUrls Method\n",
        "office = PyOffice()\n",
        "\n",
        "office.OpenUrl()\n",
        "  \n",
        "# Print <title> tag of soups returned by OpenUrls\n",
        "#for soup in soups:\n",
        "#  print(soup.find('title'))\n",
        "\n",
        "#print(soup)\n",
        "\n",
        "\n"
      ],
      "execution_count": 0,
      "outputs": [
        {
          "output_type": "stream",
          "text": [
            "\n",
            "\n",
            "Opening Url:\n",
            "\n",
            "Error: \n",
            " 'tuple' object has no attribute 'timeout'\n",
            "\n"
          ],
          "name": "stdout"
        },
        {
          "output_type": "execute_result",
          "data": {
            "text/plain": [
              "AttributeError(\"'tuple' object has no attribute 'timeout'\")"
            ]
          },
          "metadata": {
            "tags": []
          },
          "execution_count": 64
        }
      ]
    },
    {
      "cell_type": "code",
      "metadata": {
        "id": "gbbNOBNCEi-f",
        "colab_type": "code",
        "outputId": "4bdc3bd4-f4f0-4044-c245-37bab0361e73",
        "colab": {
          "base_uri": "https://localhost:8080/",
          "height": 52
        }
      },
      "source": [
        "class Person:\n",
        "  def __init__(self, name, age):\n",
        "    self.name = name\n",
        "    self.age = age\n",
        "\n",
        "  def myfunc(self):\n",
        "    print(\"Hello my name is \" + self.name)\n",
        "\n",
        "p1 = Person(\"John\", 36)\n",
        "p1.myfunc()\n",
        "\n",
        "Person"
      ],
      "execution_count": 0,
      "outputs": [
        {
          "output_type": "stream",
          "text": [
            "Hello my name is John\n"
          ],
          "name": "stdout"
        },
        {
          "output_type": "execute_result",
          "data": {
            "text/plain": [
              "__main__.Person"
            ]
          },
          "metadata": {
            "tags": []
          },
          "execution_count": 51
        }
      ]
    },
    {
      "cell_type": "code",
      "metadata": {
        "id": "qhKPR1QHHarG",
        "colab_type": "code",
        "outputId": "1dac7cd9-bbc6-4a17-eb7a-10c66a699353",
        "colab": {
          "base_uri": "https://localhost:8080/",
          "height": 89
        }
      },
      "source": [
        "from urllib.request import urlopen\n",
        "from bs4 import BeautifulSoup\n",
        "import csv\n",
        "\n",
        "\n",
        "html = urlopen('http://en.wikipedia.org/wiki/Comparison_of_text_editors')\n",
        "\n",
        "lib_methods = dir(html)\n",
        "print('HTML Built-In Library Methods:\\n', lib_methods, end='\\n\\n')\n",
        "\n",
        "soup = BeautifulSoup(html, 'html.parser')\n",
        "#print(type(soup.prettify()))\n",
        "\n",
        "with open('site.html', 'w+', newline='') as f:\n",
        "  html = urlopen('http://en.wikipedia.org/wiki/Comparison_of_text_editors')\n",
        "  mybytes = html.read()\n",
        "  mystr = mybytes.decode(\"utf8\")\n",
        "  html.close()\n",
        "  f.write(mystr)\n",
        "f.close()\n",
        "\n",
        "#print(type(lines))\n",
        "#print(len(x))\n",
        "\n",
        "#for line in lines:\n",
        "#print(lines)\n",
        "\n",
        "\n",
        "\n",
        "\n"
      ],
      "execution_count": 0,
      "outputs": [
        {
          "output_type": "stream",
          "text": [
            "HTML Built-In Library Methods:\n",
            " ['__abstractmethods__', '__class__', '__del__', '__delattr__', '__dict__', '__dir__', '__doc__', '__enter__', '__eq__', '__exit__', '__format__', '__ge__', '__getattribute__', '__gt__', '__hash__', '__init__', '__init_subclass__', '__iter__', '__le__', '__lt__', '__module__', '__ne__', '__new__', '__next__', '__reduce__', '__reduce_ex__', '__repr__', '__setattr__', '__sizeof__', '__str__', '__subclasshook__', '_abc_cache', '_abc_negative_cache', '_abc_negative_cache_version', '_abc_registry', '_checkClosed', '_checkReadable', '_checkSeekable', '_checkWritable', '_check_close', '_close_conn', '_get_chunk_left', '_method', '_peek_chunked', '_read1_chunked', '_read_and_discard_trailer', '_read_next_chunk_size', '_read_status', '_readall_chunked', '_readinto_chunked', '_safe_read', '_safe_readinto', 'begin', 'chunk_left', 'chunked', 'close', 'closed', 'code', 'debuglevel', 'detach', 'fileno', 'flush', 'fp', 'getcode', 'getheader', 'getheaders', 'geturl', 'headers', 'info', 'isatty', 'isclosed', 'length', 'msg', 'peek', 'read', 'read1', 'readable', 'readinto', 'readinto1', 'readline', 'readlines', 'reason', 'seek', 'seekable', 'status', 'tell', 'truncate', 'url', 'version', 'will_close', 'writable', 'write', 'writelines']\n",
            "\n"
          ],
          "name": "stdout"
        }
      ]
    },
    {
      "cell_type": "markdown",
      "metadata": {
        "id": "yPRuhie93fSD",
        "colab_type": "text"
      },
      "source": [
        "# Widgets"
      ]
    },
    {
      "cell_type": "code",
      "metadata": {
        "id": "QN06YKfR3dnU",
        "colab_type": "code",
        "colab": {}
      },
      "source": [
        "# Source article\n",
        "# https://towardsdatascience.com/bring-your-jupyter-notebook-to-life-with-interactive-widgets-bc12e03f0916\n",
        "\n",
        "\n",
        "\n",
        "import ipywidgets as widgets\n",
        "from IPython.display import display\n",
        "import pandas as pd\n",
        "import numpy as np\n",
        "\n",
        "# All available widgets from the PyWidgets library\n",
        "print('All available ipywidgets:\\n', dir(widgets), end='\\n\\n\\n')\n",
        "\n",
        "\n",
        "# Bounded Float Widget\n",
        "print('Bounded Float Widget:\\n')\n",
        "bounded_num = widgets.BoundedFloatText(min=0, max=100000, value=8, step=1, description='Bounded Float Text:')\n",
        "display(bounded_num)\n",
        "print('', end='\\n\\n\\n')\n",
        "\n",
        "\n",
        "# Slider Widget\n",
        "print('Slider Widget:\\n')\n",
        "slider = widgets.IntSlider(min=0, max=10, value=3, step=1, description='Slider:')\n",
        "display(slider)\n",
        "#print('Slider Starting Value: \\n', slider.value, end='\\n\\n')\n",
        "print('', end='\\n\\n\\n')\n",
        "\n",
        "\n",
        "# Linked Slider Widget\n",
        "print('Linked Slider Widget:\\n')\n",
        "slider_joined = widgets.IntSlider(min=0, max=10, value=5, step=1, description='Linked Slider:')\n",
        "text_joined = widgets.IntText(description='Linked Text:')\n",
        "display(slider_joined, text_joined)\n",
        "widgets.jslink((slider_joined, 'value'), (text_joined, 'value'));\n",
        "print('', end='\\n\\n\\n')\n",
        "\n",
        "\n",
        "# Button Widget\n",
        "print('Button Widge:\\n')\n",
        "btn = widgets.Button(description='Sample Button')\n",
        "display(btn)\n",
        "def btn_eventhandler(obj):\n",
        "    print('{} pressed!'.format(obj.description))\n",
        "btn.on_click(btn_eventhandler)\n",
        "print('', end='\\n\\n\\n')\n",
        "\n",
        "\n",
        "# Import Pandas DataFrame From Online CSV\n",
        "url = \"https://data.london.gov.uk/download/number-international-visitors-london/b1e0f953-4c8a-4b45-95f5-e0d143d5641e/international-visitors-london-raw.csv\"\n",
        "df_london = pd.read_csv(url)\n",
        "\n",
        "\n",
        "# Load Data as Widget\n",
        "ALL = 'ALL'\n",
        "def unique_sorted_values_plus_ALL(array):\n",
        "    unique = array.unique().tolist()\n",
        "    unique.sort()\n",
        "    unique.insert(0, ALL)\n",
        "    return unique\n",
        "\n",
        "dropdown_year = widgets.Dropdown(options = unique_sorted_values_plus_ALL(df_london.year))\n",
        "\n",
        "def dropdown_year_eventhandler(change):\n",
        "    if (change.new == ALL):\n",
        "        display(df_london)\n",
        "    else:\n",
        "        display(df_london[df_london.year == change.new])\n",
        "\n",
        "dropdown_year.observe(dropdown_year_eventhandler, names='value')\n",
        "display(dropdown_year)\n",
        "\n",
        "# Capture Output\n",
        "output_year = widgets.Output()\n",
        "\n",
        "def dropdown_year_eventhandler(change):\n",
        "    output_year.clear_output()\n",
        "    with output_year:\n",
        "        display(df_london[df_london.year == change.new])\n",
        "\n",
        "display(output_year)\n",
        "\n",
        "output = widgets.Output()\n",
        "\n",
        "dropdown_year = widgets.Dropdown(options =    unique_sorted_values_plus_ALL(df_london.year))\n",
        "dropdown_purpose = widgets.Dropdown(options = unique_sorted_values_plus_ALL(df_london.purpose))\n",
        "\n",
        "def common_filtering(year, purpose):\n",
        "    output.clear_output()\n",
        "    \n",
        "    if (year == ALL) & (purpose == ALL):\n",
        "        common_filter = df_london\n",
        "    elif (year == ALL):\n",
        "        common_filter = df_london[df_london.purpose == purpose]\n",
        "    elif (purpose == ALL):\n",
        "        common_filter = df_london[df_london.year == year]\n",
        "    else:\n",
        "        common_filter = df_london[(df_london.year == year) & \n",
        "                                  (df_london.purpose == purpose)]\n",
        "    \n",
        "    with output:\n",
        "        display(common_filter)\n",
        "\n",
        "\n",
        "def dropdown_year_eventhandler(change):\n",
        "    common_filtering(change.new, dropdown_purpose.value)\n",
        "def dropdown_purpose_eventhandler(change):\n",
        "    common_filtering(dropdown_year.value, change.new)\n",
        "\n",
        "\n",
        "dropdown_year.observe(\n",
        "dropdown_year_eventhandler, names='value')\n",
        "dropdown_purpose.observe(\n",
        "dropdown_purpose_eventhandler, names='value')\n",
        "\n",
        "\n",
        "\n"
      ],
      "execution_count": 0,
      "outputs": []
    },
    {
      "cell_type": "code",
      "metadata": {
        "id": "XE1xB8TqBUXo",
        "colab_type": "code",
        "colab": {}
      },
      "source": [
        "def colour_ge_value(value, comparison):\n",
        "    if value >= comparison:\n",
        "        return 'color: red'\n",
        "    else:\n",
        "        return 'color: black'\n",
        "\n",
        "def common_filtering(year, purpose, num):\n",
        "  with output:\n",
        "        display(common_filter\n",
        "                .style.applymap(\n",
        "                    lambda x: colour_ge_value(x, num),\n",
        "                    subset=['visits','spend', 'nights']))\n",
        "        \n",
        "def dropdown_year_eventhandler(change):\n",
        "    common_filtering(change.new, dropdown_purpose.value,\n",
        "                     bounded_num.value)\n",
        "def dropdown_purpose_eventhandler(change):\n",
        "    common_filtering(dropdown_year.value, change.new, \n",
        "                     bounded_num.value)\n",
        "    \n",
        "def bounded_num_eventhandler(change):\n",
        "    common_filtering(dropdown_year.value, dropdown_purpose.value, \n",
        "                     change.new)\n",
        "bounded_num.observe(bounded_num_eventhandler, names='value')"
      ],
      "execution_count": 0,
      "outputs": []
    },
    {
      "cell_type": "code",
      "metadata": {
        "id": "Dv0IC1L4gk4_",
        "colab_type": "code",
        "colab": {}
      },
      "source": [
        ""
      ],
      "execution_count": 0,
      "outputs": []
    },
    {
      "cell_type": "code",
      "metadata": {
        "id": "6MBqd2mZgk-u",
        "colab_type": "code",
        "outputId": "ec6b2c8c-576e-457b-86a5-76d18e19def0",
        "colab": {
          "base_uri": "https://localhost:8080/",
          "height": 522
        }
      },
      "source": [
        "url = \"https://data.london.gov.uk/download/number-international-visitors-london/b1e0f953-4c8a-4b45-95f5-e0d143d5641e/international-visitors-london-raw.csv\"\n",
        "df = pd.read_csv(url)\n",
        "\n",
        "df.row"
      ],
      "execution_count": 0,
      "outputs": [
        {
          "output_type": "execute_result",
          "data": {
            "text/html": [
              "<div>\n",
              "<style scoped>\n",
              "    .dataframe tbody tr th:only-of-type {\n",
              "        vertical-align: middle;\n",
              "    }\n",
              "\n",
              "    .dataframe tbody tr th {\n",
              "        vertical-align: top;\n",
              "    }\n",
              "\n",
              "    .dataframe thead th {\n",
              "        text-align: right;\n",
              "    }\n",
              "</style>\n",
              "<table border=\"1\" class=\"dataframe\">\n",
              "  <thead>\n",
              "    <tr style=\"text-align: right;\">\n",
              "      <th></th>\n",
              "      <th>year</th>\n",
              "      <th>quarter</th>\n",
              "      <th>market</th>\n",
              "      <th>dur_stay</th>\n",
              "      <th>mode</th>\n",
              "      <th>purpose</th>\n",
              "      <th>area</th>\n",
              "      <th>visits</th>\n",
              "      <th>spend</th>\n",
              "      <th>nights</th>\n",
              "      <th>sample</th>\n",
              "    </tr>\n",
              "  </thead>\n",
              "  <tbody>\n",
              "    <tr>\n",
              "      <th>0</th>\n",
              "      <td>2002</td>\n",
              "      <td>Q1</td>\n",
              "      <td>Belgium</td>\n",
              "      <td>1-3  nights</td>\n",
              "      <td>Air</td>\n",
              "      <td>Holiday</td>\n",
              "      <td>LONDON</td>\n",
              "      <td>3.572186</td>\n",
              "      <td>0.969138</td>\n",
              "      <td>6.954456</td>\n",
              "      <td>5</td>\n",
              "    </tr>\n",
              "    <tr>\n",
              "      <th>1</th>\n",
              "      <td>2002</td>\n",
              "      <td>Q1</td>\n",
              "      <td>Belgium</td>\n",
              "      <td>1-3  nights</td>\n",
              "      <td>Air</td>\n",
              "      <td>Business</td>\n",
              "      <td>LONDON</td>\n",
              "      <td>9.284226</td>\n",
              "      <td>2.399577</td>\n",
              "      <td>12.604959</td>\n",
              "      <td>19</td>\n",
              "    </tr>\n",
              "    <tr>\n",
              "      <th>2</th>\n",
              "      <td>2002</td>\n",
              "      <td>Q1</td>\n",
              "      <td>Belgium</td>\n",
              "      <td>1-3  nights</td>\n",
              "      <td>Air</td>\n",
              "      <td>VFR</td>\n",
              "      <td>LONDON</td>\n",
              "      <td>0.877182</td>\n",
              "      <td>0.089833</td>\n",
              "      <td>2.153128</td>\n",
              "      <td>3</td>\n",
              "    </tr>\n",
              "    <tr>\n",
              "      <th>3</th>\n",
              "      <td>2002</td>\n",
              "      <td>Q1</td>\n",
              "      <td>Belgium</td>\n",
              "      <td>1-3  nights</td>\n",
              "      <td>Air</td>\n",
              "      <td>Miscellaneous</td>\n",
              "      <td>LONDON</td>\n",
              "      <td>0.163874</td>\n",
              "      <td>0.010160</td>\n",
              "      <td>0.163874</td>\n",
              "      <td>1</td>\n",
              "    </tr>\n",
              "    <tr>\n",
              "      <th>4</th>\n",
              "      <td>2002</td>\n",
              "      <td>Q1</td>\n",
              "      <td>Belgium</td>\n",
              "      <td>1-3  nights</td>\n",
              "      <td>Sea</td>\n",
              "      <td>Business</td>\n",
              "      <td>LONDON</td>\n",
              "      <td>1.648670</td>\n",
              "      <td>0.016789</td>\n",
              "      <td>1.650300</td>\n",
              "      <td>1</td>\n",
              "    </tr>\n",
              "    <tr>\n",
              "      <th>...</th>\n",
              "      <td>...</td>\n",
              "      <td>...</td>\n",
              "      <td>...</td>\n",
              "      <td>...</td>\n",
              "      <td>...</td>\n",
              "      <td>...</td>\n",
              "      <td>...</td>\n",
              "      <td>...</td>\n",
              "      <td>...</td>\n",
              "      <td>...</td>\n",
              "      <td>...</td>\n",
              "    </tr>\n",
              "    <tr>\n",
              "      <th>58248</th>\n",
              "      <td>2019</td>\n",
              "      <td>Q1</td>\n",
              "      <td>Other Africa</td>\n",
              "      <td>4-7  nights</td>\n",
              "      <td>Air</td>\n",
              "      <td>VFR</td>\n",
              "      <td>LONDON</td>\n",
              "      <td>3.408199</td>\n",
              "      <td>0.652485</td>\n",
              "      <td>21.555157</td>\n",
              "      <td>3</td>\n",
              "    </tr>\n",
              "    <tr>\n",
              "      <th>58249</th>\n",
              "      <td>2019</td>\n",
              "      <td>Q1</td>\n",
              "      <td>Other Africa</td>\n",
              "      <td>4-7  nights</td>\n",
              "      <td>Air</td>\n",
              "      <td>Study</td>\n",
              "      <td>LONDON</td>\n",
              "      <td>0.367328</td>\n",
              "      <td>1.107405</td>\n",
              "      <td>2.572745</td>\n",
              "      <td>1</td>\n",
              "    </tr>\n",
              "    <tr>\n",
              "      <th>58250</th>\n",
              "      <td>2019</td>\n",
              "      <td>Q1</td>\n",
              "      <td>Other Africa</td>\n",
              "      <td>8-14 nights</td>\n",
              "      <td>Air</td>\n",
              "      <td>Business</td>\n",
              "      <td>LONDON</td>\n",
              "      <td>0.871365</td>\n",
              "      <td>0.385046</td>\n",
              "      <td>1.743714</td>\n",
              "      <td>1</td>\n",
              "    </tr>\n",
              "    <tr>\n",
              "      <th>58251</th>\n",
              "      <td>2019</td>\n",
              "      <td>Q1</td>\n",
              "      <td>Other Africa</td>\n",
              "      <td>8-14 nights</td>\n",
              "      <td>Air</td>\n",
              "      <td>VFR</td>\n",
              "      <td>LONDON</td>\n",
              "      <td>2.230128</td>\n",
              "      <td>0.516292</td>\n",
              "      <td>10.385685</td>\n",
              "      <td>3</td>\n",
              "    </tr>\n",
              "    <tr>\n",
              "      <th>58252</th>\n",
              "      <td>2019</td>\n",
              "      <td>Q1</td>\n",
              "      <td>Other Africa</td>\n",
              "      <td>15+  nights</td>\n",
              "      <td>Air</td>\n",
              "      <td>Holiday</td>\n",
              "      <td>LONDON</td>\n",
              "      <td>0.637782</td>\n",
              "      <td>1.285028</td>\n",
              "      <td>27.440094</td>\n",
              "      <td>1</td>\n",
              "    </tr>\n",
              "  </tbody>\n",
              "</table>\n",
              "<p>58253 rows × 11 columns</p>\n",
              "</div>"
            ],
            "text/plain": [
              "       year quarter        market  ...     spend     nights sample\n",
              "0      2002      Q1       Belgium  ...  0.969138   6.954456      5\n",
              "1      2002      Q1       Belgium  ...  2.399577  12.604959     19\n",
              "2      2002      Q1       Belgium  ...  0.089833   2.153128      3\n",
              "3      2002      Q1       Belgium  ...  0.010160   0.163874      1\n",
              "4      2002      Q1       Belgium  ...  0.016789   1.650300      1\n",
              "...     ...     ...           ...  ...       ...        ...    ...\n",
              "58248  2019      Q1  Other Africa  ...  0.652485  21.555157      3\n",
              "58249  2019      Q1  Other Africa  ...  1.107405   2.572745      1\n",
              "58250  2019      Q1  Other Africa  ...  0.385046   1.743714      1\n",
              "58251  2019      Q1  Other Africa  ...  0.516292  10.385685      3\n",
              "58252  2019      Q1  Other Africa  ...  1.285028  27.440094      1\n",
              "\n",
              "[58253 rows x 11 columns]"
            ]
          },
          "metadata": {
            "tags": []
          },
          "execution_count": 96
        }
      ]
    },
    {
      "cell_type": "code",
      "metadata": {
        "id": "KlONaCW9glCO",
        "colab_type": "code",
        "colab": {}
      },
      "source": [
        ""
      ],
      "execution_count": 0,
      "outputs": []
    },
    {
      "cell_type": "code",
      "metadata": {
        "id": "1hysrf9yj5tW",
        "colab_type": "code",
        "colab": {}
      },
      "source": [
        ""
      ],
      "execution_count": 0,
      "outputs": []
    },
    {
      "cell_type": "markdown",
      "metadata": {
        "id": "QAybvctsr5QF",
        "colab_type": "text"
      },
      "source": [
        "# Python Sample Function"
      ]
    },
    {
      "cell_type": "code",
      "metadata": {
        "id": "iUk9U6CLglK2",
        "colab_type": "code",
        "colab": {}
      },
      "source": [
        "#!/usr/bin/env python\n",
        "\n",
        "# Import Libraries\n",
        "import csv\n",
        "\n",
        "# Print Imported Library Methods\n",
        "csv_methods = dir(csv)\n",
        "print('CSV Built-In Library Methods:\\n', csv_methods, end='\\n\\n')\n",
        "\n",
        "# Sample Class Definition\n",
        "class MyClass:\n",
        "  def __init__(self):\n",
        "    #self.name = name\n",
        "    #self.value = value\n",
        "    pass\n",
        "\n",
        "  def print_name(self):\n",
        "    print(\"The class name is \" + self.name)\n",
        "\n",
        "  def my_function(*args, **kwargs):\n",
        "    # Initialize\n",
        "    print('', end='\\n\\n')\n",
        "  \n",
        "    # Try block\n",
        "    try:\n",
        "      arg_list = []\n",
        "  \n",
        "      # Iterating over Python *args itterators\n",
        "      print('Itterator *args:\\n')\n",
        "      for arg_index, arg in enumerate(args):\n",
        "          print('Index = [{}], Type = {}:\\n'.format(arg_index,type(arg)), arg, end='\\n\\n')\n",
        "          arg_list.append(arg)\n",
        "  \n",
        "      # Iterating over Python **kwargs dictionaries\n",
        "      print('\\nKey-Value **kwargs:\\n')\n",
        "      for kwarg_index, (key, value) in enumerate(kwargs.items()):\n",
        "        print('Index [{}]:\\n'.format(kwarg_index),\n",
        "              '\\bKey: ', key,\n",
        "              '\\nValue: ', value,\n",
        "              end='\\n\\n')\n",
        "  \n",
        "      return arg_list\n",
        "  \n",
        "    # Error Handler\n",
        "    except BaseException as e:\n",
        "      print('Error: \\n', e, end='\\n\\n')\n",
        "  \n",
        "      return e\n",
        "  \n",
        "    # Clean up block\n",
        "    finally:\n",
        "      pass\n",
        "\n",
        "\n",
        "\n",
        "\n",
        "# Main Loop\n",
        "if __name__== \"__main__\":\n",
        "\n",
        "    # Sample Data\n",
        "    my_list = [[1, 2, 3],\n",
        "               (4,5,6),\n",
        "               {'key1': 'value1','key2': 'value2','key3': 3},\n",
        "               'a'\n",
        "               ]\n",
        "    \n",
        "    # Sample Class\n",
        "    c1 = MyClass()\n",
        "    print(c1)\n",
        "    \n",
        "    # Call function for every list item\n",
        "    print('Multiple Function Calls With Star \"*\" Itterator:')\n",
        "    c1.my_function(*my_list, a=3, b='sample_text');\n",
        "    \n",
        "    # Send entire list to function at once\n",
        "    print('\\n\\n\\n\\nSingle Argument Function Calls:')\n",
        "    c1.my_function(my_list, a=3, b='sample_text');\n",
        "\n"
      ],
      "execution_count": 0,
      "outputs": []
    },
    {
      "cell_type": "code",
      "metadata": {
        "id": "2UTBBiijas8b",
        "colab_type": "code",
        "outputId": "bb1aa0d3-e579-4e55-e07d-11c16e40f046",
        "colab": {
          "base_uri": "https://localhost:8080/",
          "height": 204
        }
      },
      "source": [
        "x = MyClass()\n",
        "x.my_function()\n"
      ],
      "execution_count": 0,
      "outputs": [
        {
          "output_type": "stream",
          "text": [
            "\n",
            "\n",
            "Itterator *args:\n",
            "\n",
            "Index = [0], Type = <class '__main__.MyClass'>:\n",
            " <__main__.MyClass object at 0x7fdc462b34a8>\n",
            "\n",
            "\n",
            "Key-Value **kwargs:\n",
            "\n"
          ],
          "name": "stdout"
        },
        {
          "output_type": "execute_result",
          "data": {
            "text/plain": [
              "[<__main__.MyClass at 0x7fdc462b34a8>]"
            ]
          },
          "metadata": {
            "tags": []
          },
          "execution_count": 23
        }
      ]
    },
    {
      "cell_type": "code",
      "metadata": {
        "id": "6JmeyK9BzX03",
        "colab_type": "code",
        "colab": {}
      },
      "source": [
        ""
      ],
      "execution_count": 0,
      "outputs": []
    },
    {
      "cell_type": "code",
      "metadata": {
        "id": "vULuimQHZWjq",
        "colab_type": "code",
        "colab": {}
      },
      "source": [
        ""
      ],
      "execution_count": 0,
      "outputs": []
    },
    {
      "cell_type": "markdown",
      "metadata": {
        "id": "NUTsMODcZYIg",
        "colab_type": "text"
      },
      "source": [
        "# PyMongo Database Storage"
      ]
    },
    {
      "cell_type": "code",
      "metadata": {
        "id": "igEssSiOZYa9",
        "colab_type": "code",
        "colab": {}
      },
      "source": [
        "import pymongo\n",
        "\n",
        "myclient = pymongo.MongoClient(\"mongodb://localhost:27017/\")\n",
        "mydb = myclient[\"mydatabase\"]\n",
        "mycol = mydb[\"customers\"]\n",
        "\n",
        "mylist = [\n",
        "  { \"name\": \"Amy\", \"address\": \"Apple st 652\"},\n",
        "  { \"name\": \"Hannah\", \"address\": \"Mountain 21\"},\n",
        "  { \"name\": \"Michael\", \"address\": \"Valley 345\"},\n",
        "  { \"name\": \"Sandy\", \"address\": \"Ocean blvd 2\"},\n",
        "  { \"name\": \"Betty\", \"address\": \"Green Grass 1\"},\n",
        "  { \"name\": \"Richard\", \"address\": \"Sky st 331\"},\n",
        "  { \"name\": \"Susan\", \"address\": \"One way 98\"},\n",
        "  { \"name\": \"Vicky\", \"address\": \"Yellow Garden 2\"},\n",
        "  { \"name\": \"Ben\", \"address\": \"Park Lane 38\"},\n",
        "  { \"name\": \"William\", \"address\": \"Central st 954\"},\n",
        "  { \"name\": \"Chuck\", \"address\": \"Main Road 989\"},\n",
        "  { \"name\": \"Viola\", \"address\": \"Sideway 1633\"}\n",
        "]\n",
        "\n",
        "x = mycol.insert_many(mylist)\n",
        "\n",
        "#print list of the _id values of the inserted documents:\n",
        "print(x.inserted_ids)"
      ],
      "execution_count": 0,
      "outputs": []
    },
    {
      "cell_type": "code",
      "metadata": {
        "id": "0DlnsMFdZYth",
        "colab_type": "code",
        "colab": {}
      },
      "source": [
        ""
      ],
      "execution_count": 0,
      "outputs": []
    },
    {
      "cell_type": "code",
      "metadata": {
        "id": "sbZcoe19fEo8",
        "colab_type": "code",
        "colab": {}
      },
      "source": [
        ""
      ],
      "execution_count": 0,
      "outputs": []
    },
    {
      "cell_type": "markdown",
      "metadata": {
        "id": "qgtAxYzi7rAk",
        "colab_type": "text"
      },
      "source": [
        "# PyOffice Functions"
      ]
    },
    {
      "cell_type": "code",
      "metadata": {
        "id": "TA0scuMb7ooc",
        "colab_type": "code",
        "colab": {}
      },
      "source": [
        "def my_function(*args, **kwargs):\n",
        "  # Initialize\n",
        "  print('', end='\\n\\n')\n",
        "\n",
        "  # Function Block\n",
        "  try:\n",
        "    # \n",
        "    return args\n",
        "\n",
        "  # Error Handler\n",
        "  except BaseException as e:\n",
        "    error_msg = 'Error: \\n' + e\n",
        "    print(error_msg, end='\\n\\n')\n",
        "    return error_msg\n",
        "\n",
        "  # Clean up block\n",
        "  finally:\n",
        "    pass"
      ],
      "execution_count": 0,
      "outputs": []
    },
    {
      "cell_type": "code",
      "metadata": {
        "id": "5xgtTnaN7qRJ",
        "colab_type": "code",
        "colab": {}
      },
      "source": [
        ""
      ],
      "execution_count": 0,
      "outputs": []
    },
    {
      "cell_type": "code",
      "metadata": {
        "id": "8aTFICSa7qFb",
        "colab_type": "code",
        "colab": {}
      },
      "source": [
        ""
      ],
      "execution_count": 0,
      "outputs": []
    },
    {
      "cell_type": "code",
      "metadata": {
        "id": "RmAWu8KK7p98",
        "colab_type": "code",
        "colab": {}
      },
      "source": [
        "# Web Application"
      ],
      "execution_count": 0,
      "outputs": []
    },
    {
      "cell_type": "code",
      "metadata": {
        "id": "fi5ouxTr7pue",
        "colab_type": "code",
        "outputId": "0dbd3df7-3ffd-46fc-dbfa-3e3fb47903ff",
        "colab": {
          "base_uri": "https://localhost:8080/",
          "height": 151
        }
      },
      "source": [
        "from urllib.request import urlopen\n",
        "import requests\n",
        "import os\n",
        "\n",
        "url = 'http://www.google.com'\n",
        "\n",
        "html = urlopen(url)\n",
        "\n",
        "import socket; s = socket.socket(socket.AF_INET, socket.SOCK_DGRAM);s.connect((\"8.8.8.8\", 80));print(s.getsockname()[0])\n"
      ],
      "execution_count": 0,
      "outputs": [
        {
          "output_type": "error",
          "ename": "SyntaxError",
          "evalue": "ignored",
          "traceback": [
            "\u001b[0;36m  File \u001b[0;32m\"<ipython-input-37-76aa35ba3757>\"\u001b[0;36m, line \u001b[0;32m9\u001b[0m\n\u001b[0;31m    import socket; s = socket.socket(socket.AF_INET, socket.SOCK_DGRAM);s.connect(url, 80));print(s.getsockname()[0])\u001b[0m\n\u001b[0m                                                                                          ^\u001b[0m\n\u001b[0;31mSyntaxError\u001b[0m\u001b[0;31m:\u001b[0m invalid syntax\n"
          ]
        }
      ]
    }
  ]
}