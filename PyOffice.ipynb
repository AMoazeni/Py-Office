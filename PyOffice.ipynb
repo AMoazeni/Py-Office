{
 "cells": [
  {
   "cell_type": "markdown",
   "metadata": {
    "colab_type": "text",
    "id": "q8BwzQ4Zvw_6"
   },
   "source": [
    "<div align=\"center\">\n",
    "\n",
    "# **PYTHON OFFICE**\n",
    "\n",
    "<div align=\"Left\">\n",
    "\n",
    "#### **Author:** AMoazeni\n",
    "#### **Licence:** MIT \n",
    "\n",
    "<div align=\"left\">\n",
    "\n",
    "Business workflow automation tools with Python. Free up time by automating routine and repetitive office taks with batch management of Spreadsheets, Wordprocessor Documents, and Emails.\n",
    "\n",
    "<div align=\"center\">\n",
    "\n",
    "<br>\n",
    "\n",
    "<img sr='https://media.giphy.com/media/fsoCk5kgOcYMM/giphy.gif' width='70%'>\n",
    "\n",
    "<img sr='https://media.giphy.com/media/l1IY5NRhxdCJYxsmA/giphy.gif' width='70%'>\n",
    "\n",
    "\n",
    "<br><br>"
   ]
  },
  {
   "cell_type": "markdown",
   "metadata": {
    "colab_type": "text",
    "id": "mC_V2uF6awzo"
   },
   "source": [
    "<div align=\"Left\">\n",
    "\n",
    "# **0. RUN THE PY-OFFICE NOTEBOOK**\n",
    "\n",
    "### 0.1 Run In The Cloud (Google Colab Notebook)\n",
    "Python is already installed on a Google Colab Notebook cloud instances. You need a Gmail account to use Colab Notebooks, and Google provides 12GB RAM and 50GB Storage on their cloud.\n",
    "\n",
    "1. Go to the [Py-Office Colab Notebook](https://colab.research.google.com/drive/1MeWwYxGbOyjlNpG7j3jzWzqeIO5VXA3p)\n",
    "\n",
    "2. Click the 'Open In Playground' button on the top left of the screen.\n",
    "\n",
    "3. Log-in using a Gmail account.\n",
    "\n",
    "4. Click the the '▶️ Run Cell' buttons on the Left side of each code cell or run all cells with **Runtime --> Run All**.\n",
    "\n",
    "<br>\n",
    "\n",
    "### 0.2 Local Installation (Python Anaconda - Jupyter Notebook)\n",
    "Use this link to [install Python Anaconda 3.X](https://www.anaconda.com/distribution/) on your local computer and use Jupyter Notebook to open the [Py-Office Notebook](https://github.com/AMoazeni/Py-Office/archive/master.zip) found at 'Github.com/AMoazeni/Py-Office'.\n",
    "\n",
    "```python\n",
    "git clone https://github.com/AMoazeni/Py-Office.git\n",
    "cd Py-Office\n",
    "pip install -r requirements.txt\n",
    "cd Py-Office/Notebooks\n",
    "jupyter notebook Py-Office.ipynb \n",
    "```\n",
    "\n",
    "<br>\n",
    "\n",
    "### 0.3 Install Dependencies\n",
    "Click the '▶️ Run Cell' button next to the code cell below. You can also select the code cell and run the code with the '**CRTL + ENTER**' keyboard shortcut.\n",
    "\n",
    "The '!pip' magic command lets you install open-source Python libraries. Anaconda pre-install several popular Python libraries like TensorFlow and NumPy. Get a full list of the [1,500+ Python Pachages Installed with Anaconda](https://docs.anaconda.com/anaconda/packages/pkg-docs/).\n"
   ]
  },
  {
   "cell_type": "markdown",
   "metadata": {
    "colab_type": "text",
    "id": "zW4tiT6uhDKT"
   },
   "source": [
    "```\n",
    "# Py-Office Requirements.txt\n",
    "bs4 == 0.0.1\n",
    "pandas == 0.25.3\n",
    "selenium == 3.141.0\n",
    "ipywidgets == 7.5.1\n",
    "numpy == 1.17.3\n",
    "matplotlib = 3.1.1\n",
    "\n",
    "```\n",
    "\n",
    "\n",
    "\n"
   ]
  },
  {
   "cell_type": "code",
   "execution_count": 0,
   "metadata": {
    "colab": {},
    "colab_type": "code",
    "id": "F6izOdxRgRLR"
   },
   "outputs": [],
   "source": [
    "!pip list"
   ]
  },
  {
   "cell_type": "code",
   "execution_count": 0,
   "metadata": {
    "colab": {},
    "colab_type": "code",
    "id": "85Y1ncQX4pfm"
   },
   "outputs": [],
   "source": [
    "!pip install bs4 selenium pandas ipywidgets"
   ]
  },
  {
   "cell_type": "code",
   "execution_count": 0,
   "metadata": {
    "colab": {},
    "colab_type": "code",
    "id": "sbMk10Gq3OkU"
   },
   "outputs": [],
   "source": [
    "!jupyter nbextension enable --py widgetsnbextension"
   ]
  },
  {
   "cell_type": "code",
   "execution_count": 0,
   "metadata": {
    "colab": {},
    "colab_type": "code",
    "id": "TyzaNoA83qFP"
   },
   "outputs": [],
   "source": []
  },
  {
   "cell_type": "code",
   "execution_count": 0,
   "metadata": {
    "colab": {},
    "colab_type": "code",
    "id": "G_WdOr1f3p_B"
   },
   "outputs": [],
   "source": []
  },
  {
   "cell_type": "code",
   "execution_count": 0,
   "metadata": {
    "colab": {},
    "colab_type": "code",
    "id": "Oyx_F1ve3pUU"
   },
   "outputs": [],
   "source": []
  },
  {
   "cell_type": "markdown",
   "metadata": {
    "colab_type": "text",
    "id": "Md5TTIlm5pZW"
   },
   "source": [
    "# **1 . IMPORT .CSV DATASET**\n",
    "\n",
    "Install [Python 3.X Anaconda](https://www.anaconda.com/distribution/#download-section) and download the [PyOffice Github](https://www.github.com/amoazeni/PyOffice) Repository. Unzip the folder and place your .CSV Dataset in the '**CSV Data**' folder.\n",
    "\n",
    "<div align=\"center\" >\n",
    "<img src='https://github.com/AMoazeni/PyOffice/blob/master/img/git.png?raw=true' width=70%>\n",
    "</div>\n",
    "<br>\n",
    "\n",
    "### 1.1 Export .CSV Data From Microsoft Excel.\n",
    "<div align=\"center\" >\n",
    "<img src='https://cdn.ablebits.com/_img-blog/excel-csv/save-excel-csv.png' width=70%>\n",
    "</div>\n",
    "<br>\n",
    "\n",
    "### 1.2 Export .CSV Data From Google Docs.\n",
    "<div align=\"center\" >\n",
    "<img src='https://lh3.googleusercontent.com/wtKtoKgudmVkaI1pRc2SeN25GsATlFB54HgVv57rf9akOA4H_A6TLT3g67yC_VUnRq2E-WetMIAdbNp_7NuISPRsqXAi7S7NIGRzrD6c34nz1EGFqifH84R09p0XxrfBNIl5mSnl' width=70%>\n",
    "</div>\n",
    "<br>\n",
    "\n",
    "\n",
    "\n",
    "\n",
    "\n",
    "\n",
    "\n"
   ]
  },
  {
   "cell_type": "code",
   "execution_count": 0,
   "metadata": {
    "colab": {},
    "colab_type": "code",
    "id": "_t5swjmb3rs1"
   },
   "outputs": [],
   "source": []
  },
  {
   "cell_type": "markdown",
   "metadata": {
    "colab_type": "text",
    "id": "HQJvp-sD4pfl"
   },
   "source": [
    "# **2. SPREADSHEETS (XLSX, CSV)**\n",
    "Comma-Separated Values (CSV) is a tabular file format where each line of the file is a data record. CSV files use commas to separate values into rows and columns.\n",
    "\n",
    "Example CSVs found on [Kaggle.com](https://www.kaggle.com/datasets?sort=votes&fileType=csv).\n"
   ]
  },
  {
   "cell_type": "markdown",
   "metadata": {
    "colab_type": "text",
    "id": "pfHFsIhGf2PL"
   },
   "source": []
  },
  {
   "cell_type": "code",
   "execution_count": 0,
   "metadata": {
    "colab": {},
    "colab_type": "code",
    "id": "GRAxGAH5P_xm"
   },
   "outputs": [],
   "source": [
    "import os\n",
    "import csv\n",
    "import re\n",
    "from urllib.request import urlopen\n",
    "from bs4 import BeautifulSoup\n",
    "\n",
    "# Get HTML file from URL as a Beautiful Soup object\n",
    "html = urlopen('http://en.wikipedia.org/wiki/Comparison_of_text_editors')\n",
    "bs = BeautifulSoup(html, 'html.parser')\n",
    "\n",
    "# Create a CSV file for each table in the page\n",
    "tables = bs.find('table',{'class':'wikitable'})[0]\n",
    "rows = tables.find('tr')\n",
    "for table in range(len(tables)):\n",
    "  print('Table {}:\\n'.format(table), tables[table].find('td'), end='\\n\\n\\n\\n\\n\\n\\n\\n')\n",
    "\n",
    "#csvFile = open('editors.csv', 'wt+')\n",
    "#writer = csv.writer(csvFile)\n",
    "\n"
   ]
  },
  {
   "cell_type": "code",
   "execution_count": 0,
   "metadata": {
    "colab": {},
    "colab_type": "code",
    "id": "AJ04Nl2ZXSCT"
   },
   "outputs": [],
   "source": [
    "# Get URL Links from Page\n",
    "html = urlopen('http://en.wikipedia.org/wiki/Comparison_of_text_editors')\n",
    "bs = BeautifulSoup(html, 'html.parser')\n",
    "tables = bs.find_all('a')\n",
    "for tag in bs.find_all('a', href = re.compile('http')):\n",
    "  if 'href' in tag.attrs:\n",
    "    print(tag.attrs['href'])\n",
    "\n",
    "\n",
    "  "
   ]
  },
  {
   "cell_type": "code",
   "execution_count": 0,
   "metadata": {
    "colab": {},
    "colab_type": "code",
    "id": "HC6AZbKrmAsU"
   },
   "outputs": [],
   "source": [
    "import os\n",
    "import csv\n",
    "import re\n",
    "from urllib.request import urlopen\n",
    "from bs4 import BeautifulSoup\n",
    "from IPython.display import Image\n",
    "from IPython.core.display import HTML \n",
    "\n",
    "html = urlopen('https://en.wikipedia.org/wiki/2019_Rugby_World_Cup')\n",
    "bs = BeautifulSoup(html, 'html.parser')\n",
    "tables = bs.find_all('a')\n",
    "for tag in bs.find_all('img'):\n",
    "  # Print Image \n",
    "  print(tag.attrs['src'])\n",
    "\n",
    "for i in range(len(bs.find_all('img'))):\n",
    "  print('Image {}:\\n'.format(i))\n",
    "  Image(url = bs.find_all('img')[i].attrs['src'])\n",
    "\n",
    "\n",
    "\n",
    "    "
   ]
  },
  {
   "cell_type": "code",
   "execution_count": 0,
   "metadata": {
    "colab": {},
    "colab_type": "code",
    "id": "ylrzrytAa7k7"
   },
   "outputs": [],
   "source": [
    "# //upload.wikimedia.org/wikipedia/en/thumb/b/be/Flag_of_England.svg/23px-Flag_of_England.svg.png\n",
    "\n",
    "import os\n",
    "import csv\n",
    "import re\n",
    "from urllib.request import urlopen\n",
    "from bs4 import BeautifulSoup\n",
    "from IPython.display import display, Image\n",
    "from IPython.core.display import HTML\n",
    "import requests\n",
    "\n",
    "\n",
    "session = requests.Session()\n",
    "headers = {'User-Agent':'Mozilla/5.0 (Windows NT 10.0; Win64; x64) AppleWebKit/537.36 (KHTML, like Gecko) Chrome/78.0.3904.97 Safari/537.36'}\n",
    "\n",
    "root_url = 'https://www.yahoo.com'\n",
    "req = session.get(root_url, headers=headers)\n",
    "bs = BeautifulSoup(req.text, 'html.parser')\n",
    "\n",
    "# Standard Python URLlib\n",
    "#html = urlopen(root_url)\n",
    "#bs = BeautifulSoup(html, 'html.parser')\n",
    "\n",
    "img_num = len(bs.find_all('img'))\n",
    "count = img_num\n",
    "\n",
    "for image in bs.find_all('img'):\n",
    "  print('\\n\\nImage {}:'.format(img_num - count))\n",
    "  count = count - 1\n",
    "  try:\n",
    "    img_url = image.attrs['src']\n",
    "    print(img_url)\n",
    "    display(Image(url=img_url, retina=True))\n",
    "  except:\n",
    "    img_url = image.contents\n",
    "    print(img_url)\n",
    "\n",
    "  \n"
   ]
  },
  {
   "cell_type": "code",
   "execution_count": 0,
   "metadata": {
    "colab": {},
    "colab_type": "code",
    "id": "TaI3tG3IQpgn"
   },
   "outputs": [],
   "source": [
    "#!/usr/bin/env python\n",
    "from re import findall,sub\n",
    "from lxml import html\n",
    "from time import sleep\n",
    "from selenium import webdriver\n",
    "from pprint import pprint\n",
    "from xvfbwrapper import Xvfb\n",
    "\n",
    "\n",
    "def parse(url):\n",
    "    searchKey = \"Las Vegas\" # Change this to your city \n",
    "    checkInDate = '27/08/2016' #Format %d/%m/%Y\n",
    "    checkOutDate = '29/08/2016' #Format %d/%m/%Y\n",
    "    response = webdriver.Firefox()\n",
    "    response.get(url)\n",
    "    searchKeyElement = response.find_elements_by_xpath('//input[contains(@id,\"destination\")]')\n",
    "    checkInElement = response.find_elements_by_xpath('//input[contains(@class,\"check-in\")]')\n",
    "    checkOutElement = response.find_elements_by_xpath('//input[contains(@class,\"check-out\")]')\n",
    "    submitButton = response.find_elements_by_xpath('//button[@type=\"submit\"]')\n",
    "    if searchKeyElement and checkInElement and checkOutElement:\n",
    "        searchKeyElement[0].send_keys(searchKey)\n",
    "        checkInElement[0].clear()\n",
    "        checkInElement[0].send_keys(checkInDate)\n",
    "        checkOutElement[0].clear()\n",
    "        checkOutElement[0].send_keys(checkOutDate)\n",
    "        randomClick = response.find_elements_by_xpath('//h1')\n",
    "        if randomClick:\n",
    "            randomClick[0].click()\n",
    "        submitButton[0].click()\n",
    "        sleep(15)\n",
    "        dropDownButton = response.find_elements_by_xpath('//fieldset[contains(@id,\"dropdown\")]')\n",
    "        if dropDownButton:\n",
    "            dropDownButton[0].click()\n",
    "            priceLowtoHigh = response.find_elements_by_xpath('//li[contains(text(),\"low to high\")]')\n",
    "            if priceLowtoHigh:\n",
    "                priceLowtoHigh[0].click()\n",
    "                sleep(10)\n",
    "\n",
    "    parser = html.fromstring(response.page_source,response.current_url)\n",
    "    hotels = parser.xpath('//div[@class=\"hotel-wrap\"]')\n",
    "    for hotel in hotels[:5]: #Replace 5 with 1 to just get the cheapest hotel\n",
    "        hotelName = hotel.xpath('.//h3/a')\n",
    "        hotelName = hotelName[0].text_content() if hotelName else None\n",
    "        price = hotel.xpath('.//div[@class=\"price\"]/a//ins')\n",
    "        price = price[0].text_content().replace(\",\",\"\").strip() if price else None\n",
    "        if price==None:\n",
    "            price = hotel.xpath('.//div[@class=\"price\"]/a')\n",
    "            price = price[0].text_content().replace(\",\",\"\").strip() if price else None\n",
    "        price = findall('([\\d\\.]+)',price) if price else None\n",
    "        price = price[0] if price else None\n",
    "        rating = hotel.xpath('.//div[@class=\"star-rating\"]/span/@data-star-rating')\n",
    "        rating = rating[0] if rating else None\n",
    "        address = hotel.xpath('.//span[contains(@class,\"locality\")]')\n",
    "        address = \"\".join([x.text_content() for x in address]) if address else None\n",
    "        locality = hotel.xpath('.//span[contains(@class,\"locality\")]')\n",
    "        locality = locality[0].text_content().replace(\",\",\"\").strip() if locality else None\n",
    "        region = hotel.xpath('.//span[contains(@class,\"locality\")]')\n",
    "        region = region[0].text_content().replace(\",\",\"\").strip() if region else None\n",
    "        postalCode = hotel.xpath('.//span[contains(@class,\"postal-code\")]')\n",
    "        postalCode = postalCode[0].text_content().replace(\",\",\"\").strip() if postalCode else None\n",
    "        countryName = hotel.xpath('.//span[contains(@class,\"country-name\")]')\n",
    "        countryName = countryName[0].text_content().replace(\",\",\"\").strip() if countryName else None\n",
    "\n",
    "        item = {\n",
    "                    \"hotelName\":hotelName,\n",
    "                    \"price\":price,\n",
    "                    \"rating\":rating,\n",
    "                    \"address\":address,\n",
    "                    \"locality\":locality,\n",
    "                    \"region\":region,\n",
    "                    \"postalCode\":postalCode,\n",
    "                    \"countryName\":countryName,\n",
    "        }\n",
    "        pprint(item)\n",
    "if __name__ == '__main__':\n",
    "#    vdisplay = Xvfb()\n",
    "#    vdisplay.start()\n",
    "    driver = webdriver.Firefox(executable_path=\"/usr/bin/geckodriver\")\n",
    "    !chmod +x geckodriver\n",
    "    parse('http://www.hotels.com')\n",
    "#    vdisplay.stop()"
   ]
  },
  {
   "cell_type": "code",
   "execution_count": 0,
   "metadata": {
    "colab": {},
    "colab_type": "code",
    "id": "TFxrspdaFrGR"
   },
   "outputs": [],
   "source": [
    "import datetime\n",
    "from bs4 import BeautifulSoup\n",
    "import time\n",
    "import selenium\n",
    "from selenium import webdriver\n",
    "import re\n",
    "\n",
    "keyword = 'blue+skateboard'\n",
    "driver = webdriver.Chrome()\n",
    "\n",
    "url = 'https://www.amazon.co.uk/s/ref=nb_sb_noss_2?url=search-alias%3Daps&field-keywords={}'\n",
    "\n",
    "driver.get(url.format(keyword))\n",
    "soup = BeautifulSoup(driver.page_source, 'lxml')\n",
    "results = soup.select('.s-result-list [data-asin]')\n",
    "\n",
    "for a, b in enumerate(results):\n",
    "    soup = b\n",
    "    header = soup.select_one('h5')\n",
    "    result = a + 1\n",
    "    title = header.text.strip()\n",
    "\n",
    "    try:\n",
    "        link = soup.select_one('h5 > a')\n",
    "        url = link['href']\n",
    "        url = re.sub(r'/ref=.*', '', str(url))\n",
    "    except:\n",
    "        url = \"None\"\n",
    "\n",
    "    if url !='/gp/slredirect/picassoRedirect.html':\n",
    "        ASIN = re.sub(r'.*/dp/', '', str(url))\n",
    "        #print(ASIN)\n",
    "\n",
    "        try:\n",
    "            score = soup.select_one('.a-icon-alt')\n",
    "            score = score.text\n",
    "            score = score.strip('\\n')\n",
    "            score = re.sub(r' .*', '', str(score))\n",
    "        except:\n",
    "            score = \"None\"\n",
    "\n",
    "        try:\n",
    "            reviews = soup.select_one(\"href*='#customerReviews']\")\n",
    "            reviews = reviews.text.strip()\n",
    "        except:\n",
    "            reviews = \"None\"\n",
    "\n",
    "        try:\n",
    "            PRIME = soup.select_one('[aria-label=\"Amazon Prime\"]')\n",
    "            PRIME = PRIME['aria-label']\n",
    "        except:\n",
    "            PRIME = \"None\"\n",
    "        data = {keyword:[keyword,str(result),title,ASIN,score,reviews,PRIME,datetime.datetime.today().strftime(\"%B %d, %Y\")]}\n",
    "        print(data)"
   ]
  },
  {
   "cell_type": "code",
   "execution_count": 0,
   "metadata": {
    "colab": {},
    "colab_type": "code",
    "id": "nZCKrbF6TDvp"
   },
   "outputs": [],
   "source": [
    "\n",
    "for row in rows:\n",
    "  csvRow = []\n",
    "for cell in row.findAll(['table']):\n",
    "  csvRow.append(cell.get_text())\n",
    "  writer.writerow(csvRow)\n",
    "  print(cell)\n",
    "\n",
    "csvFile.close()\n",
    "# Print CSV File\n",
    "os.chdir(os.getcwd())\n",
    "with open('editors.csv', newline='') as csvfile:\n",
    "  spamreader = csv.reader(csvfile, delimiter=',')\n",
    "  for row in spamreader:\n",
    "    print(', '.join(row))"
   ]
  },
  {
   "cell_type": "markdown",
   "metadata": {
    "colab_type": "text",
    "id": "vOjoIeO1x8rF"
   },
   "source": [
    "### 2.1 Get Data From Web"
   ]
  },
  {
   "cell_type": "code",
   "execution_count": 0,
   "metadata": {
    "colab": {},
    "colab_type": "code",
    "id": "gl3lDdD72Kvk"
   },
   "outputs": [],
   "source": [
    "import csv\n",
    "import os\n",
    "import pandas as pd\n",
    "\n",
    "def csv_import(csv_online_path = 'https://raw.githubusercontent.com/AMoazeni/Machine-Learning-Stock-Market-Prediction/master/Data/Google_Stock_Price_Train.csv'):\n",
    "  try:\n",
    "    \n",
    "    pd_csv = pd.read_csv(csv_online_path)\n",
    "    \n",
    "    with open('new.csv', 'w+', newline='') as f:\n",
    "      writer = csv.writer(f)\n",
    "      writer.writerows(pd_csv)\n",
    "      print('CSV_Import function completed for CSV for path:\\n', csv_online_path, end='\\n\\n')\n",
    "      return pd_csv\n",
    "\n",
    "  except BaseException as e:\n",
    "    print('Error: ', e, end='\\n\\n')\n",
    "    return e\n",
    "\n",
    "  finally:\n",
    "    print('End Of CSV Import Function.', end='\\n\\n')\n",
    "\n",
    "csv_online_path = 'https://raw.githubusercontent.com/AMoazeni/Machine-Learning-Stock-Market-Prediction/master/Data/Google_Stock_Price_Train.csv'\n",
    "csv_import(csv_online_path)\n",
    "\n"
   ]
  },
  {
   "cell_type": "markdown",
   "metadata": {
    "colab_type": "text",
    "id": "DBoNjZORxjJj"
   },
   "source": [
    "### 2.2 Import from MS Excel and Google Sheets"
   ]
  },
  {
   "cell_type": "code",
   "execution_count": 0,
   "metadata": {
    "colab": {},
    "colab_type": "code",
    "id": "bWqWixrP2Ayh"
   },
   "outputs": [],
   "source": []
  },
  {
   "cell_type": "code",
   "execution_count": 0,
   "metadata": {
    "colab": {
     "base_uri": "https://localhost:8080/",
     "height": 173
    },
    "colab_type": "code",
    "id": "K1kbL8KY7tqb",
    "outputId": "b69ea77b-c39c-4946-e1a9-9746afafd652"
   },
   "outputs": [
    {
     "name": "stdout",
     "output_type": "stream",
     "text": [
      "csv_data folder already existed, current working directory set to:\n",
      " /content/csv_data\n",
      "\n",
      "CSV file \"new.csv\" written to path:\n",
      " /content/csv_data\n",
      "\n",
      "Finally, the working directory is set back to:\n",
      " /content\n",
      "\n"
     ]
    }
   ],
   "source": [
    "import pandas as pd\n",
    "\n",
    "csv_online_path = 'https://raw.githubusercontent.com/AMoazeni/Machine-Learning-Stock-Market-Prediction/master/Data/Google_Stock_Price_Train.csv'\n",
    "pd_csv = pd.read_csv(csv_online_path)\n",
    "#pd_csv.info()\n",
    "#rows = pd_csv.shape[0]\n",
    "#print('Rows: ', row_len)\n",
    "#print('Rows: ', col_len)\n",
    "#pd_csv.describe()\n",
    "\n",
    "\n",
    "csv_file = 'new.csv'\n",
    "\n",
    "root_path = os.getcwd()\n",
    "csv_path = root_path + '/csv_data'\n",
    "\n",
    "\n",
    "try:\n",
    "  if not os.path.exists(csv_path):\n",
    "    os.mkdir(csv_path)\n",
    "    os.chdir(csv_path)\n",
    "    print('New csv_data folder created at:\\n', csv_path, end='\\n\\n')\n",
    "\n",
    "  else:\n",
    "    os.chdir(csv_path)\n",
    "    print('csv_data folder already existed, current working directory set to:\\n', csv_path, end='\\n\\n')\n",
    "      \n",
    "  with open(csv_file, 'w+', newline='') as f:\n",
    "    pd_csv.to_csv(f, sep='\\t', encoding='utf-8')\n",
    "    print('CSV file \"{}\" written to path:\\n'.format(csv_file), csv_path, end='\\n\\n')\n",
    "    f.close()\n",
    "    \n",
    "except BaseException as e:\n",
    "  print('Error Creating CSV_Data Folder: ', e, end='\\n\\n')\n",
    "\n",
    "finally:\n",
    "  os.chdir(root_path)\n",
    "  print('Finally, the working directory is set back to:\\n', root_path, end='\\n\\n')\n",
    "\n"
   ]
  },
  {
   "cell_type": "code",
   "execution_count": 0,
   "metadata": {
    "colab": {
     "base_uri": "https://localhost:8080/",
     "height": 87
    },
    "colab_type": "code",
    "id": "UPwGjIQ9zXzi",
    "outputId": "feb1065e-2412-4527-e0f7-9dcfd355b550"
   },
   "outputs": [
    {
     "name": "stdout",
     "output_type": "stream",
     "text": [
      "/content/csv_data\n",
      "/content/csv_data/csv_data\n",
      "new.csv\n",
      "/content\n"
     ]
    }
   ],
   "source": [
    "print(root_path)\n",
    "print(csv_path)\n",
    "print(csv_file)\n",
    "os.chdir('/content')\n",
    "print(os.getcwd())"
   ]
  },
  {
   "cell_type": "code",
   "execution_count": 0,
   "metadata": {
    "colab": {
     "base_uri": "https://localhost:8080/",
     "height": 104
    },
    "colab_type": "code",
    "id": "Ryy3iAXeuo8S",
    "outputId": "c056e0fe-5b9e-43e2-e305-a19dcf8a9df4"
   },
   "outputs": [
    {
     "name": "stdout",
     "output_type": "stream",
     "text": [
      "None\n",
      "Current Working Directory: \n",
      " /content\n",
      "\n",
      "new.csv  \u001b[0m\u001b[01;34msample_data\u001b[0m/\n"
     ]
    }
   ],
   "source": [
    "import os\n",
    "print(os.chdir('/content'))\n",
    "print('Current Working Directory: \\n', os.getcwd(), end='\\n\\n')\n",
    "os.ch\n",
    "%ls"
   ]
  },
  {
   "cell_type": "code",
   "execution_count": 0,
   "metadata": {
    "colab": {},
    "colab_type": "code",
    "id": "1dvAu-zEx-i4"
   },
   "outputs": [],
   "source": []
  },
  {
   "cell_type": "markdown",
   "metadata": {
    "colab_type": "text",
    "id": "kufG52_r4_ha"
   },
   "source": [
    "## 2.3 Data Visualization"
   ]
  },
  {
   "cell_type": "markdown",
   "metadata": {
    "colab_type": "text",
    "id": "6TNhG8qH4pfo"
   },
   "source": [
    "# **3. WORD PROCESSOR (DOCX, PDF, TXT)**"
   ]
  },
  {
   "cell_type": "code",
   "execution_count": 0,
   "metadata": {
    "colab": {},
    "colab_type": "code",
    "id": "5NGI8Rx14pfo"
   },
   "outputs": [],
   "source": [
    "# Install these libraries: 'pip3 install python-docx', 'pip install pypandoc'\n",
    "\n",
    "from docx import Document\n",
    "import csv\n",
    "import os\n",
    "import shutil\n",
    "import pypandoc\n",
    "import subprocess\n",
    "\n",
    "subprocess.run([\"ls\", \"-l\"])\n",
    "\n",
    "# Set this folder as 'working directory'.\n",
    "\n",
    "# Path to MS Word .DOCX document template and MS Excel database.\n",
    "# Add custom keywords to first of .CSV file and .DOCX template.\n",
    "DOC_NAME = 'Document.docx'\n",
    "SHEET_NAME = 'Sheet.csv'\n",
    "\n",
    "RES_DIR = 'Results'\n",
    "RES_FILE_NAME = 'Result.docx'\n",
    "\n",
    "# Create results folder.\n",
    "if os.path.exists(RES_DIR):\n",
    "    shutil.rmtree(RES_DIR)\n",
    "os.makedirs(RES_DIR)\n",
    "\n",
    "\n",
    "# Function: Replace keywords in Document with data from .CSV database.\n",
    "# Save Document as .PDF in folders created in the root directory.\n",
    "def CSV_To_PDF(keywords, info, count):    \n",
    "    doc = Document(DOC_NAME)\n",
    "    \n",
    "    # Replace loop for each column\n",
    "    for i in range(len(keywords)):\n",
    "        for p in doc.paragraphs:\n",
    "            if keywords[i] in p.text:\n",
    "                inline = p.runs\n",
    "                # Loop added to work with runs (strings with same style)\n",
    "                for j in range(len(inline)):\n",
    "                    if keywords[i] in inline[j].text:\n",
    "                        text = inline[j].text.replace(keywords[i], info[i])\n",
    "                        inline[j].text = text\n",
    "\n",
    "    file_path = RES_DIR + '/' + str(count) + ' - ' + str(info[1]) + ', ' + str(info[2]) + '/'\n",
    "    \n",
    "    # Create results folder.\n",
    "    if os.path.exists(file_path):\n",
    "        shutil.rmtree(file_path)\n",
    "    os.makedirs(file_path)\n",
    "        \n",
    "    file_path_save = file_path + RES_FILE_NAME\n",
    "    doc.save(file_path_save)\n",
    "    \n",
    "    return 1\n",
    "\n",
    "\n",
    "# Create a blank document.\n",
    "#doc = Document()\n",
    " \n",
    "# Add a styled paragraph.\n",
    "#p = doc.add_paragraph('Lorem ipsum dolor sit amet.', style='Heading 1')\n",
    "#p.add_run('bold').bold = True\n",
    "#p.add_run(' and some ')\n",
    "#p.add_run('italic.').italic = True\n",
    "\n",
    "# Add a simple paragraph.\n",
    "#doc.add_paragraph('Lorem ipsum dolor sit amet.', style='paragraph')\n",
    "\n",
    "# Open an existing document.\n",
    "doc = Document(DOC_NAME)\n",
    "\n",
    "# Parse CSV    \n",
    "csv_read = csv.reader(open(SHEET_NAME, 'rt'))\n",
    "rows = []\n",
    "\n",
    "for line in csv_read:\n",
    "  print(line)\n",
    "  rows.append(line)\n",
    "\n",
    "count = 0\n",
    "       \n",
    "for row in rows:\n",
    "    keywords = rows[0]\n",
    "    info = row\n",
    "    CSV_To_PDF(keywords, info, count)\n",
    "    count += 1\n",
    "\n"
   ]
  },
  {
   "cell_type": "markdown",
   "metadata": {
    "colab_type": "text",
    "id": "40FPLaNY4pft"
   },
   "source": [
    "# **4. EMAIL (GMAIL, OUTLOOK)**\n"
   ]
  },
  {
   "cell_type": "code",
   "execution_count": 0,
   "metadata": {
    "colab": {},
    "colab_type": "code",
    "id": "wdexKsw-4pfu"
   },
   "outputs": [],
   "source": []
  },
  {
   "cell_type": "markdown",
   "metadata": {
    "colab_type": "text",
    "id": "Ruy-HvR44pfv"
   },
   "source": [
    "# PyOffice Object\n",
    "Document Processing, SpreadSheets, and Email with Python."
   ]
  },
  {
   "cell_type": "code",
   "execution_count": 0,
   "metadata": {
    "colab": {
     "base_uri": "https://localhost:8080/",
     "height": 243
    },
    "colab_type": "code",
    "id": "A8ZaaGxA710y",
    "outputId": "bf668253-58b3-4a10-dab2-5377bfe5838f"
   },
   "outputs": [
    {
     "name": "stdout",
     "output_type": "stream",
     "text": [
      "Index = [0]:\n",
      " https://www.yahoo.com/\n",
      "\n",
      "<title>Yahoo</title>\n",
      "Index = [1]:\n",
      " https://www.microsoft.com/\n",
      "\n",
      "<title>Access Denied</title>\n",
      "Index = [2]:\n",
      " https://www.google.com/\n",
      "\n",
      "<title>Google</title>\n"
     ]
    },
    {
     "data": {
      "text/plain": [
       "3"
      ]
     },
     "execution_count": 23,
     "metadata": {
      "tags": []
     },
     "output_type": "execute_result"
    }
   ],
   "source": [
    "import os\n",
    "import csv\n",
    "import re\n",
    "from urllib.request import urlopen\n",
    "from bs4 import BeautifulSoup\n",
    "\n",
    "# Sample Data\n",
    "my_url = 'https://www.yahoo.com/'\n",
    "\n",
    "my_urls = ['https://www.yahoo.com/',\n",
    "            'https://www.microsoft.com/',\n",
    "            'https://www.google.com/'\n",
    "          ]\n",
    "\n",
    "# Get HTML file from URL as a Beautiful Soup object\n",
    "html = urlopen('http://en.wikipedia.org/wiki/Comparison_of_text_editors')\n",
    "bs = BeautifulSoup(html, 'html.parser')\n",
    "bs.find('title')\n",
    "\n",
    "urls = []\n",
    "soups = []\n",
    "\n",
    "for arg_index, url in enumerate(my_urls):\n",
    "    print('Index = [{}]:\\n'.format(arg_index), url, end='\\n\\n')\n",
    "    urls.append(url)\n",
    "    bs = BeautifulSoup(urlopen(url), 'html.parser')\n",
    "    soups.append(bs)\n",
    "    print(bs.find('title'))\n",
    "\n",
    "soup = BeautifulSoup(urlopen(my_url), 'html.parser')\n",
    "print('URL: ', url, end='\\n')\n",
    "print('URL Title: ', bs.find('title'), end='\\n')\n",
    "\n",
    "print('URLs:\\n', urls)\n",
    "\n"
   ]
  },
  {
   "cell_type": "code",
   "execution_count": 0,
   "metadata": {
    "colab": {
     "base_uri": "https://localhost:8080/",
     "height": 156
    },
    "colab_type": "code",
    "id": "3hAKWh9e4pfw",
    "outputId": "28724406-ee3d-4864-d71c-46587a28cf12"
   },
   "outputs": [
    {
     "name": "stdout",
     "output_type": "stream",
     "text": [
      "\n",
      "\n",
      "Opening Url:\n",
      "\n",
      "Error: \n",
      " 'tuple' object has no attribute 'timeout'\n",
      "\n"
     ]
    },
    {
     "data": {
      "text/plain": [
       "AttributeError(\"'tuple' object has no attribute 'timeout'\")"
      ]
     },
     "execution_count": 64,
     "metadata": {
      "tags": []
     },
     "output_type": "execute_result"
    }
   ],
   "source": [
    "#!/usr/bin/env python\n",
    "\n",
    "# Import Libraries\n",
    "import csv\n",
    "import re\n",
    "from urllib.request import urlopen\n",
    "\n",
    "import bs4 as BeautifulSoup\n",
    "import pandas\n",
    "\n",
    "\n",
    "#import ipywidgets\n",
    "#import selenium\n",
    "#import numpy\n",
    "#import matplotlib\n",
    "\n",
    "# Print Imported Library Methods\n",
    "#lib_methods = dir(csv)\n",
    "#print('CSV Built-In Library Methods:\\n', lib_methods, end='\\n\\n')\n",
    "\n",
    "# Sample Class Definition\n",
    "class PyOffice:\n",
    "  def __init__(self):\n",
    "    self.sample_website = 'https://www.yahoo.com/'\n",
    "    self.sample_csv = 'https://raw.githubusercontent.com/AMoazeni/PyOffice/master/googleplaystore.csv'\n",
    "    pass\n",
    "\n",
    "  def print_name(self):\n",
    "    print(\"The class name is \" + self.name)\n",
    "\n",
    "  def OpenUrl(self, *args, **kwargs):\n",
    "    # Initialize\n",
    "    print('', end='\\n\\n')\n",
    "  \n",
    "    # Try block\n",
    "    try:\n",
    "      # Iterating over Python *args itterators\n",
    "      print('Opening Url:\\n')\n",
    "      soup = BeautifulSoup(urlopen(args), 'html.parser')\n",
    "      print('URL: ', url, end='\\n')\n",
    "      print('URL Title: ', bs.find('title'), end='\\n')\n",
    "\n",
    "      print('URLs:\\n', urls)\n",
    "  \n",
    "      return soup\n",
    "  \n",
    "    # Error Handler\n",
    "    except BaseException as e:\n",
    "      print('Error: \\n', e, end='\\n\\n')\n",
    "      return e\n",
    "  \n",
    "    # Clean up block\n",
    "    finally:\n",
    "      pass\n",
    "\n",
    "\n",
    "\n",
    "# Sample Data\n",
    "my_url = 'https://www.yahoo.com/'\n",
    "\n",
    "my_urls = ['https://www.yahoo.com/',\n",
    "            'https://www.microsoft.com/',\n",
    "            'https://www.google.com/'\n",
    "          ]\n",
    "  \n",
    "# OpenUrls Method\n",
    "office = PyOffice()\n",
    "\n",
    "office.OpenUrl()\n",
    "  \n",
    "# Print <title> tag of soups returned by OpenUrls\n",
    "#for soup in soups:\n",
    "#  print(soup.find('title'))\n",
    "\n",
    "#print(soup)\n",
    "\n",
    "\n"
   ]
  },
  {
   "cell_type": "code",
   "execution_count": 0,
   "metadata": {
    "colab": {
     "base_uri": "https://localhost:8080/",
     "height": 52
    },
    "colab_type": "code",
    "id": "gbbNOBNCEi-f",
    "outputId": "4bdc3bd4-f4f0-4044-c245-37bab0361e73"
   },
   "outputs": [
    {
     "name": "stdout",
     "output_type": "stream",
     "text": [
      "Hello my name is John\n"
     ]
    },
    {
     "data": {
      "text/plain": [
       "__main__.Person"
      ]
     },
     "execution_count": 51,
     "metadata": {
      "tags": []
     },
     "output_type": "execute_result"
    }
   ],
   "source": [
    "class Person:\n",
    "  def __init__(self, name, age):\n",
    "    self.name = name\n",
    "    self.age = age\n",
    "\n",
    "  def myfunc(self):\n",
    "    print(\"Hello my name is \" + self.name)\n",
    "\n",
    "p1 = Person(\"John\", 36)\n",
    "p1.myfunc()\n",
    "\n",
    "Person"
   ]
  },
  {
   "cell_type": "code",
   "execution_count": 0,
   "metadata": {
    "colab": {
     "base_uri": "https://localhost:8080/",
     "height": 89
    },
    "colab_type": "code",
    "id": "qhKPR1QHHarG",
    "outputId": "1dac7cd9-bbc6-4a17-eb7a-10c66a699353"
   },
   "outputs": [
    {
     "name": "stdout",
     "output_type": "stream",
     "text": [
      "HTML Built-In Library Methods:\n",
      " ['__abstractmethods__', '__class__', '__del__', '__delattr__', '__dict__', '__dir__', '__doc__', '__enter__', '__eq__', '__exit__', '__format__', '__ge__', '__getattribute__', '__gt__', '__hash__', '__init__', '__init_subclass__', '__iter__', '__le__', '__lt__', '__module__', '__ne__', '__new__', '__next__', '__reduce__', '__reduce_ex__', '__repr__', '__setattr__', '__sizeof__', '__str__', '__subclasshook__', '_abc_cache', '_abc_negative_cache', '_abc_negative_cache_version', '_abc_registry', '_checkClosed', '_checkReadable', '_checkSeekable', '_checkWritable', '_check_close', '_close_conn', '_get_chunk_left', '_method', '_peek_chunked', '_read1_chunked', '_read_and_discard_trailer', '_read_next_chunk_size', '_read_status', '_readall_chunked', '_readinto_chunked', '_safe_read', '_safe_readinto', 'begin', 'chunk_left', 'chunked', 'close', 'closed', 'code', 'debuglevel', 'detach', 'fileno', 'flush', 'fp', 'getcode', 'getheader', 'getheaders', 'geturl', 'headers', 'info', 'isatty', 'isclosed', 'length', 'msg', 'peek', 'read', 'read1', 'readable', 'readinto', 'readinto1', 'readline', 'readlines', 'reason', 'seek', 'seekable', 'status', 'tell', 'truncate', 'url', 'version', 'will_close', 'writable', 'write', 'writelines']\n",
      "\n"
     ]
    }
   ],
   "source": [
    "from urllib.request import urlopen\n",
    "from bs4 import BeautifulSoup\n",
    "import csv\n",
    "\n",
    "\n",
    "html = urlopen('http://en.wikipedia.org/wiki/Comparison_of_text_editors')\n",
    "\n",
    "lib_methods = dir(html)\n",
    "print('HTML Built-In Library Methods:\\n', lib_methods, end='\\n\\n')\n",
    "\n",
    "soup = BeautifulSoup(html, 'html.parser')\n",
    "#print(type(soup.prettify()))\n",
    "\n",
    "with open('site.html', 'w+', newline='') as f:\n",
    "  html = urlopen('http://en.wikipedia.org/wiki/Comparison_of_text_editors')\n",
    "  mybytes = html.read()\n",
    "  mystr = mybytes.decode(\"utf8\")\n",
    "  html.close()\n",
    "  f.write(mystr)\n",
    "f.close()\n",
    "\n",
    "#print(type(lines))\n",
    "#print(len(x))\n",
    "\n",
    "#for line in lines:\n",
    "#print(lines)\n",
    "\n",
    "\n",
    "\n",
    "\n"
   ]
  },
  {
   "cell_type": "markdown",
   "metadata": {
    "colab_type": "text",
    "id": "yPRuhie93fSD"
   },
   "source": [
    "# Widgets"
   ]
  },
  {
   "cell_type": "code",
   "execution_count": 0,
   "metadata": {
    "colab": {},
    "colab_type": "code",
    "id": "QN06YKfR3dnU"
   },
   "outputs": [],
   "source": [
    "# Source article\n",
    "# https://towardsdatascience.com/bring-your-jupyter-notebook-to-life-with-interactive-widgets-bc12e03f0916\n",
    "\n",
    "\n",
    "\n",
    "import ipywidgets as widgets\n",
    "from IPython.display import display\n",
    "import pandas as pd\n",
    "import numpy as np\n",
    "\n",
    "# All available widgets from the PyWidgets library\n",
    "print('All available ipywidgets:\\n', dir(widgets), end='\\n\\n\\n')\n",
    "\n",
    "\n",
    "# Bounded Float Widget\n",
    "print('Bounded Float Widget:\\n')\n",
    "bounded_num = widgets.BoundedFloatText(min=0, max=100000, value=8, step=1, description='Bounded Float Text:')\n",
    "display(bounded_num)\n",
    "print('', end='\\n\\n\\n')\n",
    "\n",
    "\n",
    "# Slider Widget\n",
    "print('Slider Widget:\\n')\n",
    "slider = widgets.IntSlider(min=0, max=10, value=3, step=1, description='Slider:')\n",
    "display(slider)\n",
    "#print('Slider Starting Value: \\n', slider.value, end='\\n\\n')\n",
    "print('', end='\\n\\n\\n')\n",
    "\n",
    "\n",
    "# Linked Slider Widget\n",
    "print('Linked Slider Widget:\\n')\n",
    "slider_joined = widgets.IntSlider(min=0, max=10, value=5, step=1, description='Linked Slider:')\n",
    "text_joined = widgets.IntText(description='Linked Text:')\n",
    "display(slider_joined, text_joined)\n",
    "widgets.jslink((slider_joined, 'value'), (text_joined, 'value'));\n",
    "print('', end='\\n\\n\\n')\n",
    "\n",
    "\n",
    "# Button Widget\n",
    "print('Button Widge:\\n')\n",
    "btn = widgets.Button(description='Sample Button')\n",
    "display(btn)\n",
    "def btn_eventhandler(obj):\n",
    "    print('{} pressed!'.format(obj.description))\n",
    "btn.on_click(btn_eventhandler)\n",
    "print('', end='\\n\\n\\n')\n",
    "\n",
    "\n",
    "# Import Pandas DataFrame From Online CSV\n",
    "url = \"https://data.london.gov.uk/download/number-international-visitors-london/b1e0f953-4c8a-4b45-95f5-e0d143d5641e/international-visitors-london-raw.csv\"\n",
    "df_london = pd.read_csv(url)\n",
    "\n",
    "\n",
    "# Load Data as Widget\n",
    "ALL = 'ALL'\n",
    "def unique_sorted_values_plus_ALL(array):\n",
    "    unique = array.unique().tolist()\n",
    "    unique.sort()\n",
    "    unique.insert(0, ALL)\n",
    "    return unique\n",
    "\n",
    "dropdown_year = widgets.Dropdown(options = unique_sorted_values_plus_ALL(df_london.year))\n",
    "\n",
    "def dropdown_year_eventhandler(change):\n",
    "    if (change.new == ALL):\n",
    "        display(df_london)\n",
    "    else:\n",
    "        display(df_london[df_london.year == change.new])\n",
    "\n",
    "dropdown_year.observe(dropdown_year_eventhandler, names='value')\n",
    "display(dropdown_year)\n",
    "\n",
    "# Capture Output\n",
    "output_year = widgets.Output()\n",
    "\n",
    "def dropdown_year_eventhandler(change):\n",
    "    output_year.clear_output()\n",
    "    with output_year:\n",
    "        display(df_london[df_london.year == change.new])\n",
    "\n",
    "display(output_year)\n",
    "\n",
    "output = widgets.Output()\n",
    "\n",
    "dropdown_year = widgets.Dropdown(options =    unique_sorted_values_plus_ALL(df_london.year))\n",
    "dropdown_purpose = widgets.Dropdown(options = unique_sorted_values_plus_ALL(df_london.purpose))\n",
    "\n",
    "def common_filtering(year, purpose):\n",
    "    output.clear_output()\n",
    "    \n",
    "    if (year == ALL) & (purpose == ALL):\n",
    "        common_filter = df_london\n",
    "    elif (year == ALL):\n",
    "        common_filter = df_london[df_london.purpose == purpose]\n",
    "    elif (purpose == ALL):\n",
    "        common_filter = df_london[df_london.year == year]\n",
    "    else:\n",
    "        common_filter = df_london[(df_london.year == year) & \n",
    "                                  (df_london.purpose == purpose)]\n",
    "    \n",
    "    with output:\n",
    "        display(common_filter)\n",
    "\n",
    "\n",
    "def dropdown_year_eventhandler(change):\n",
    "    common_filtering(change.new, dropdown_purpose.value)\n",
    "def dropdown_purpose_eventhandler(change):\n",
    "    common_filtering(dropdown_year.value, change.new)\n",
    "\n",
    "\n",
    "dropdown_year.observe(\n",
    "dropdown_year_eventhandler, names='value')\n",
    "dropdown_purpose.observe(\n",
    "dropdown_purpose_eventhandler, names='value')\n",
    "\n",
    "\n",
    "\n"
   ]
  },
  {
   "cell_type": "code",
   "execution_count": 0,
   "metadata": {
    "colab": {},
    "colab_type": "code",
    "id": "XE1xB8TqBUXo"
   },
   "outputs": [],
   "source": [
    "def colour_ge_value(value, comparison):\n",
    "    if value >= comparison:\n",
    "        return 'color: red'\n",
    "    else:\n",
    "        return 'color: black'\n",
    "\n",
    "def common_filtering(year, purpose, num):\n",
    "  with output:\n",
    "        display(common_filter\n",
    "                .style.applymap(\n",
    "                    lambda x: colour_ge_value(x, num),\n",
    "                    subset=['visits','spend', 'nights']))\n",
    "        \n",
    "def dropdown_year_eventhandler(change):\n",
    "    common_filtering(change.new, dropdown_purpose.value,\n",
    "                     bounded_num.value)\n",
    "def dropdown_purpose_eventhandler(change):\n",
    "    common_filtering(dropdown_year.value, change.new, \n",
    "                     bounded_num.value)\n",
    "    \n",
    "def bounded_num_eventhandler(change):\n",
    "    common_filtering(dropdown_year.value, dropdown_purpose.value, \n",
    "                     change.new)\n",
    "bounded_num.observe(bounded_num_eventhandler, names='value')"
   ]
  },
  {
   "cell_type": "code",
   "execution_count": 0,
   "metadata": {
    "colab": {},
    "colab_type": "code",
    "id": "Dv0IC1L4gk4_"
   },
   "outputs": [],
   "source": []
  },
  {
   "cell_type": "code",
   "execution_count": 0,
   "metadata": {
    "colab": {
     "base_uri": "https://localhost:8080/",
     "height": 522
    },
    "colab_type": "code",
    "id": "6MBqd2mZgk-u",
    "outputId": "ec6b2c8c-576e-457b-86a5-76d18e19def0"
   },
   "outputs": [
    {
     "data": {
      "text/html": [
       "<div>\n",
       "<style scoped>\n",
       "    .dataframe tbody tr th:only-of-type {\n",
       "        vertical-align: middle;\n",
       "    }\n",
       "\n",
       "    .dataframe tbody tr th {\n",
       "        vertical-align: top;\n",
       "    }\n",
       "\n",
       "    .dataframe thead th {\n",
       "        text-align: right;\n",
       "    }\n",
       "</style>\n",
       "<table border=\"1\" class=\"dataframe\">\n",
       "  <thead>\n",
       "    <tr style=\"text-align: right;\">\n",
       "      <th></th>\n",
       "      <th>year</th>\n",
       "      <th>quarter</th>\n",
       "      <th>market</th>\n",
       "      <th>dur_stay</th>\n",
       "      <th>mode</th>\n",
       "      <th>purpose</th>\n",
       "      <th>area</th>\n",
       "      <th>visits</th>\n",
       "      <th>spend</th>\n",
       "      <th>nights</th>\n",
       "      <th>sample</th>\n",
       "    </tr>\n",
       "  </thead>\n",
       "  <tbody>\n",
       "    <tr>\n",
       "      <th>0</th>\n",
       "      <td>2002</td>\n",
       "      <td>Q1</td>\n",
       "      <td>Belgium</td>\n",
       "      <td>1-3  nights</td>\n",
       "      <td>Air</td>\n",
       "      <td>Holiday</td>\n",
       "      <td>LONDON</td>\n",
       "      <td>3.572186</td>\n",
       "      <td>0.969138</td>\n",
       "      <td>6.954456</td>\n",
       "      <td>5</td>\n",
       "    </tr>\n",
       "    <tr>\n",
       "      <th>1</th>\n",
       "      <td>2002</td>\n",
       "      <td>Q1</td>\n",
       "      <td>Belgium</td>\n",
       "      <td>1-3  nights</td>\n",
       "      <td>Air</td>\n",
       "      <td>Business</td>\n",
       "      <td>LONDON</td>\n",
       "      <td>9.284226</td>\n",
       "      <td>2.399577</td>\n",
       "      <td>12.604959</td>\n",
       "      <td>19</td>\n",
       "    </tr>\n",
       "    <tr>\n",
       "      <th>2</th>\n",
       "      <td>2002</td>\n",
       "      <td>Q1</td>\n",
       "      <td>Belgium</td>\n",
       "      <td>1-3  nights</td>\n",
       "      <td>Air</td>\n",
       "      <td>VFR</td>\n",
       "      <td>LONDON</td>\n",
       "      <td>0.877182</td>\n",
       "      <td>0.089833</td>\n",
       "      <td>2.153128</td>\n",
       "      <td>3</td>\n",
       "    </tr>\n",
       "    <tr>\n",
       "      <th>3</th>\n",
       "      <td>2002</td>\n",
       "      <td>Q1</td>\n",
       "      <td>Belgium</td>\n",
       "      <td>1-3  nights</td>\n",
       "      <td>Air</td>\n",
       "      <td>Miscellaneous</td>\n",
       "      <td>LONDON</td>\n",
       "      <td>0.163874</td>\n",
       "      <td>0.010160</td>\n",
       "      <td>0.163874</td>\n",
       "      <td>1</td>\n",
       "    </tr>\n",
       "    <tr>\n",
       "      <th>4</th>\n",
       "      <td>2002</td>\n",
       "      <td>Q1</td>\n",
       "      <td>Belgium</td>\n",
       "      <td>1-3  nights</td>\n",
       "      <td>Sea</td>\n",
       "      <td>Business</td>\n",
       "      <td>LONDON</td>\n",
       "      <td>1.648670</td>\n",
       "      <td>0.016789</td>\n",
       "      <td>1.650300</td>\n",
       "      <td>1</td>\n",
       "    </tr>\n",
       "    <tr>\n",
       "      <th>...</th>\n",
       "      <td>...</td>\n",
       "      <td>...</td>\n",
       "      <td>...</td>\n",
       "      <td>...</td>\n",
       "      <td>...</td>\n",
       "      <td>...</td>\n",
       "      <td>...</td>\n",
       "      <td>...</td>\n",
       "      <td>...</td>\n",
       "      <td>...</td>\n",
       "      <td>...</td>\n",
       "    </tr>\n",
       "    <tr>\n",
       "      <th>58248</th>\n",
       "      <td>2019</td>\n",
       "      <td>Q1</td>\n",
       "      <td>Other Africa</td>\n",
       "      <td>4-7  nights</td>\n",
       "      <td>Air</td>\n",
       "      <td>VFR</td>\n",
       "      <td>LONDON</td>\n",
       "      <td>3.408199</td>\n",
       "      <td>0.652485</td>\n",
       "      <td>21.555157</td>\n",
       "      <td>3</td>\n",
       "    </tr>\n",
       "    <tr>\n",
       "      <th>58249</th>\n",
       "      <td>2019</td>\n",
       "      <td>Q1</td>\n",
       "      <td>Other Africa</td>\n",
       "      <td>4-7  nights</td>\n",
       "      <td>Air</td>\n",
       "      <td>Study</td>\n",
       "      <td>LONDON</td>\n",
       "      <td>0.367328</td>\n",
       "      <td>1.107405</td>\n",
       "      <td>2.572745</td>\n",
       "      <td>1</td>\n",
       "    </tr>\n",
       "    <tr>\n",
       "      <th>58250</th>\n",
       "      <td>2019</td>\n",
       "      <td>Q1</td>\n",
       "      <td>Other Africa</td>\n",
       "      <td>8-14 nights</td>\n",
       "      <td>Air</td>\n",
       "      <td>Business</td>\n",
       "      <td>LONDON</td>\n",
       "      <td>0.871365</td>\n",
       "      <td>0.385046</td>\n",
       "      <td>1.743714</td>\n",
       "      <td>1</td>\n",
       "    </tr>\n",
       "    <tr>\n",
       "      <th>58251</th>\n",
       "      <td>2019</td>\n",
       "      <td>Q1</td>\n",
       "      <td>Other Africa</td>\n",
       "      <td>8-14 nights</td>\n",
       "      <td>Air</td>\n",
       "      <td>VFR</td>\n",
       "      <td>LONDON</td>\n",
       "      <td>2.230128</td>\n",
       "      <td>0.516292</td>\n",
       "      <td>10.385685</td>\n",
       "      <td>3</td>\n",
       "    </tr>\n",
       "    <tr>\n",
       "      <th>58252</th>\n",
       "      <td>2019</td>\n",
       "      <td>Q1</td>\n",
       "      <td>Other Africa</td>\n",
       "      <td>15+  nights</td>\n",
       "      <td>Air</td>\n",
       "      <td>Holiday</td>\n",
       "      <td>LONDON</td>\n",
       "      <td>0.637782</td>\n",
       "      <td>1.285028</td>\n",
       "      <td>27.440094</td>\n",
       "      <td>1</td>\n",
       "    </tr>\n",
       "  </tbody>\n",
       "</table>\n",
       "<p>58253 rows × 11 columns</p>\n",
       "</div>"
      ],
      "text/plain": [
       "       year quarter        market  ...     spend     nights sample\n",
       "0      2002      Q1       Belgium  ...  0.969138   6.954456      5\n",
       "1      2002      Q1       Belgium  ...  2.399577  12.604959     19\n",
       "2      2002      Q1       Belgium  ...  0.089833   2.153128      3\n",
       "3      2002      Q1       Belgium  ...  0.010160   0.163874      1\n",
       "4      2002      Q1       Belgium  ...  0.016789   1.650300      1\n",
       "...     ...     ...           ...  ...       ...        ...    ...\n",
       "58248  2019      Q1  Other Africa  ...  0.652485  21.555157      3\n",
       "58249  2019      Q1  Other Africa  ...  1.107405   2.572745      1\n",
       "58250  2019      Q1  Other Africa  ...  0.385046   1.743714      1\n",
       "58251  2019      Q1  Other Africa  ...  0.516292  10.385685      3\n",
       "58252  2019      Q1  Other Africa  ...  1.285028  27.440094      1\n",
       "\n",
       "[58253 rows x 11 columns]"
      ]
     },
     "execution_count": 96,
     "metadata": {
      "tags": []
     },
     "output_type": "execute_result"
    }
   ],
   "source": [
    "url = \"https://data.london.gov.uk/download/number-international-visitors-london/b1e0f953-4c8a-4b45-95f5-e0d143d5641e/international-visitors-london-raw.csv\"\n",
    "df = pd.read_csv(url)\n",
    "\n",
    "df.row"
   ]
  },
  {
   "cell_type": "code",
   "execution_count": 0,
   "metadata": {
    "colab": {},
    "colab_type": "code",
    "id": "KlONaCW9glCO"
   },
   "outputs": [],
   "source": []
  },
  {
   "cell_type": "code",
   "execution_count": 0,
   "metadata": {
    "colab": {},
    "colab_type": "code",
    "id": "1hysrf9yj5tW"
   },
   "outputs": [],
   "source": []
  },
  {
   "cell_type": "markdown",
   "metadata": {
    "colab_type": "text",
    "id": "QAybvctsr5QF"
   },
   "source": [
    "# Python Sample Function"
   ]
  },
  {
   "cell_type": "code",
   "execution_count": 0,
   "metadata": {
    "colab": {},
    "colab_type": "code",
    "id": "iUk9U6CLglK2"
   },
   "outputs": [],
   "source": [
    "#!/usr/bin/env python\n",
    "\n",
    "# Import Libraries\n",
    "import csv\n",
    "\n",
    "# Print Imported Library Methods\n",
    "csv_methods = dir(csv)\n",
    "print('CSV Built-In Library Methods:\\n', csv_methods, end='\\n\\n')\n",
    "\n",
    "# Sample Class Definition\n",
    "class MyClass:\n",
    "  def __init__(self):\n",
    "    #self.name = name\n",
    "    #self.value = value\n",
    "    pass\n",
    "\n",
    "  def print_name(self):\n",
    "    print(\"The class name is \" + self.name)\n",
    "\n",
    "  def my_function(*args, **kwargs):\n",
    "    # Initialize\n",
    "    print('', end='\\n\\n')\n",
    "  \n",
    "    # Try block\n",
    "    try:\n",
    "      arg_list = []\n",
    "  \n",
    "      # Iterating over Python *args itterators\n",
    "      print('Itterator *args:\\n')\n",
    "      for arg_index, arg in enumerate(args):\n",
    "          print('Index = [{}], Type = {}:\\n'.format(arg_index,type(arg)), arg, end='\\n\\n')\n",
    "          arg_list.append(arg)\n",
    "  \n",
    "      # Iterating over Python **kwargs dictionaries\n",
    "      print('\\nKey-Value **kwargs:\\n')\n",
    "      for kwarg_index, (key, value) in enumerate(kwargs.items()):\n",
    "        print('Index [{}]:\\n'.format(kwarg_index),\n",
    "              '\\bKey: ', key,\n",
    "              '\\nValue: ', value,\n",
    "              end='\\n\\n')\n",
    "  \n",
    "      return arg_list\n",
    "  \n",
    "    # Error Handler\n",
    "    except BaseException as e:\n",
    "      print('Error: \\n', e, end='\\n\\n')\n",
    "  \n",
    "      return e\n",
    "  \n",
    "    # Clean up block\n",
    "    finally:\n",
    "      pass\n",
    "\n",
    "\n",
    "\n",
    "\n",
    "# Main Loop\n",
    "if __name__== \"__main__\":\n",
    "\n",
    "    # Sample Data\n",
    "    my_list = [[1, 2, 3],\n",
    "               (4,5,6),\n",
    "               {'key1': 'value1','key2': 'value2','key3': 3},\n",
    "               'a'\n",
    "               ]\n",
    "    \n",
    "    # Sample Class\n",
    "    c1 = MyClass()\n",
    "    print(c1)\n",
    "    \n",
    "    # Call function for every list item\n",
    "    print('Multiple Function Calls With Star \"*\" Itterator:')\n",
    "    c1.my_function(*my_list, a=3, b='sample_text');\n",
    "    \n",
    "    # Send entire list to function at once\n",
    "    print('\\n\\n\\n\\nSingle Argument Function Calls:')\n",
    "    c1.my_function(my_list, a=3, b='sample_text');\n",
    "\n"
   ]
  },
  {
   "cell_type": "code",
   "execution_count": 0,
   "metadata": {
    "colab": {
     "base_uri": "https://localhost:8080/",
     "height": 204
    },
    "colab_type": "code",
    "id": "2UTBBiijas8b",
    "outputId": "bb1aa0d3-e579-4e55-e07d-11c16e40f046"
   },
   "outputs": [
    {
     "name": "stdout",
     "output_type": "stream",
     "text": [
      "\n",
      "\n",
      "Itterator *args:\n",
      "\n",
      "Index = [0], Type = <class '__main__.MyClass'>:\n",
      " <__main__.MyClass object at 0x7fdc462b34a8>\n",
      "\n",
      "\n",
      "Key-Value **kwargs:\n",
      "\n"
     ]
    },
    {
     "data": {
      "text/plain": [
       "[<__main__.MyClass at 0x7fdc462b34a8>]"
      ]
     },
     "execution_count": 23,
     "metadata": {
      "tags": []
     },
     "output_type": "execute_result"
    }
   ],
   "source": [
    "x = MyClass()\n",
    "x.my_function()\n"
   ]
  },
  {
   "cell_type": "code",
   "execution_count": 0,
   "metadata": {
    "colab": {},
    "colab_type": "code",
    "id": "6JmeyK9BzX03"
   },
   "outputs": [],
   "source": []
  },
  {
   "cell_type": "code",
   "execution_count": 0,
   "metadata": {
    "colab": {},
    "colab_type": "code",
    "id": "vULuimQHZWjq"
   },
   "outputs": [],
   "source": []
  },
  {
   "cell_type": "markdown",
   "metadata": {
    "colab_type": "text",
    "id": "NUTsMODcZYIg"
   },
   "source": [
    "# PyMongo Database Storage"
   ]
  },
  {
   "cell_type": "code",
   "execution_count": 0,
   "metadata": {
    "colab": {},
    "colab_type": "code",
    "id": "igEssSiOZYa9"
   },
   "outputs": [],
   "source": [
    "import pymongo\n",
    "\n",
    "myclient = pymongo.MongoClient(\"mongodb://localhost:27017/\")\n",
    "mydb = myclient[\"mydatabase\"]\n",
    "mycol = mydb[\"customers\"]\n",
    "\n",
    "mylist = [\n",
    "  { \"name\": \"Amy\", \"address\": \"Apple st 652\"},\n",
    "  { \"name\": \"Hannah\", \"address\": \"Mountain 21\"},\n",
    "  { \"name\": \"Michael\", \"address\": \"Valley 345\"},\n",
    "  { \"name\": \"Sandy\", \"address\": \"Ocean blvd 2\"},\n",
    "  { \"name\": \"Betty\", \"address\": \"Green Grass 1\"},\n",
    "  { \"name\": \"Richard\", \"address\": \"Sky st 331\"},\n",
    "  { \"name\": \"Susan\", \"address\": \"One way 98\"},\n",
    "  { \"name\": \"Vicky\", \"address\": \"Yellow Garden 2\"},\n",
    "  { \"name\": \"Ben\", \"address\": \"Park Lane 38\"},\n",
    "  { \"name\": \"William\", \"address\": \"Central st 954\"},\n",
    "  { \"name\": \"Chuck\", \"address\": \"Main Road 989\"},\n",
    "  { \"name\": \"Viola\", \"address\": \"Sideway 1633\"}\n",
    "]\n",
    "\n",
    "x = mycol.insert_many(mylist)\n",
    "\n",
    "#print list of the _id values of the inserted documents:\n",
    "print(x.inserted_ids)"
   ]
  },
  {
   "cell_type": "code",
   "execution_count": 0,
   "metadata": {
    "colab": {},
    "colab_type": "code",
    "id": "0DlnsMFdZYth"
   },
   "outputs": [],
   "source": []
  },
  {
   "cell_type": "code",
   "execution_count": 0,
   "metadata": {
    "colab": {},
    "colab_type": "code",
    "id": "sbZcoe19fEo8"
   },
   "outputs": [],
   "source": []
  },
  {
   "cell_type": "markdown",
   "metadata": {
    "colab_type": "text",
    "id": "qgtAxYzi7rAk"
   },
   "source": [
    "# PyOffice Functions"
   ]
  },
  {
   "cell_type": "code",
   "execution_count": 47,
   "metadata": {
    "colab": {
     "base_uri": "https://localhost:8080/",
     "height": 332
    },
    "colab_type": "code",
    "id": "TA0scuMb7ooc",
    "outputId": "0fd9faac-df46-40dc-b7ca-1f8608cf6ce8"
   },
   "outputs": [
    {
     "name": "stdout",
     "output_type": "stream",
     "text": [
      "\n",
      "\n",
      "Response Length:\n",
      " 2\n",
      "\n",
      "Response Type:\n",
      " <class 'dict'>\n",
      "\n",
      "Columns ( 9 ):\n",
      " ['longitude', 'latitude', 'housing_median_age', 'total_rooms', 'total_bedrooms', 'population', 'households', 'median_income', 'median_house_value']\n",
      "\n",
      "Rows ( 17000 ):\n",
      "['-114.310000', '34.190000', '15.000000', '5612.000000', '1283.000000', '1015.000000', '472.000000', '1.493600', '66900.000000']\n",
      "['-114.470000', '34.400000', '19.000000', '7650.000000', '1901.000000', '1129.000000', '463.000000', '1.820000', '80100.000000']\n",
      "['-114.560000', '33.690000', '17.000000', '720.000000', '174.000000', '333.000000', '117.000000', '1.650900', '85700.000000']\n",
      "['-114.570000', '33.640000', '14.000000', '1501.000000', '337.000000', '515.000000', '226.000000', '3.191700', '73400.000000']\n",
      "['-114.570000', '33.570000', '20.000000', '1454.000000', '326.000000', '624.000000', '262.000000', '1.925000', '65500.000000']\n"
     ]
    }
   ],
   "source": [
    "import csv\n",
    "\n",
    "def csv_open(*args, **kwargs):\n",
    "  ''' csv_open(str 'csv_path') returns a Python Dictionary{} and accepts a local .CSV file path.\n",
    "      \n",
    "      List of columns: \"csv_data['columns'][0]\"\n",
    "\n",
    "      List of rows: \"csv_data['rows']\"\n",
    "\n",
    "      First row: \"csv_data['rows'][0]\"\n",
    "\n",
    "      First item of first row: \"csv_data['rows'][0][0]\"\n",
    "  '''\n",
    "  \n",
    "  # Initialize\n",
    "  print('', end='\\n\\n')\n",
    "  csv_data={}\n",
    "  rows=[]\n",
    "  columns=[]\n",
    "  index=0\n",
    "\n",
    "  # Function Block\n",
    "  try:\n",
    "    with open(args[0], newline='') as csvfile:\n",
    "      csv_reader = csv.reader(csvfile)\n",
    "      \n",
    "      for row in csv_reader:\n",
    "        if index==0:\n",
    "          columns.append(row)\n",
    "        else:\n",
    "          rows.append(row)\n",
    "        index+=1\n",
    "        #print(', '.join(row))\n",
    "\n",
    "      csv_data['columns'] = columns\n",
    "      csv_data['rows'] = rows\n",
    "    \n",
    "    return csv_data\n",
    "\n",
    "  # Error Handler\n",
    "  except BaseException as e:\n",
    "    error_msg = 'Error: \\n' + str(e)\n",
    "    print(error_msg, end='\\n\\n')\n",
    "    return error_msg\n",
    "\n",
    "  # Clean up block\n",
    "  finally:\n",
    "    pass\n",
    "\n",
    "#csv_url = '/content/sample_data/mnist_train_small.csv'\n",
    "csv_url = '/content/sample_data/california_housing_train.csv'\n",
    "csv_data = csv_open(csv_url)\n",
    "\n",
    "print('Response Length:\\n', len(csv_data), end='\\n\\n')\n",
    "print('Response Type:\\n', type(csv_data), end='\\n\\n')\n",
    "\n",
    "if str(type(csv_data)) == \"<class 'dict'>\":\n",
    "  columns = csv_data['columns'][0]\n",
    "  rows = csv_data['rows']\n",
    "  \n",
    "  print('Columns (', len(columns), '):\\n', columns, end='\\n\\n')\n",
    "  print('Rows (', len(rows), '):')\n",
    "  for i in range(5):\n",
    "    print(rows[i], end='\\n')\n",
    "\n",
    "\n"
   ]
  },
  {
   "cell_type": "code",
   "execution_count": 0,
   "metadata": {
    "colab": {
     "base_uri": "https://localhost:8080/",
     "height": 34
    },
    "colab_type": "code",
    "id": "5xgtTnaN7qRJ",
    "outputId": "fa26c013-712a-4643-f212-578d1b956b7f"
   },
   "outputs": [
    {
     "data": {
      "text/plain": [
       "<_csv.reader at 0x7fae606532e8>"
      ]
     },
     "execution_count": 38,
     "metadata": {
      "tags": []
     },
     "output_type": "execute_result"
    }
   ],
   "source": [
    "# Column Aggregate and Average\n",
    "\n",
    "columns = csv_data['columns'][0]\n",
    "rows = csv_data['rows']\n",
    "\n",
    "for column in range(len(columns)):\n",
    "  total_sum=0\n",
    "  for row in rows:\n",
    "    try:  \n",
    "      total_sum = total_sum + float(row[column])\n",
    "    except:\n",
    "      total_sum = total_sum + 0\n",
    "\n",
    "  print('\\n\\nColumn: ', columns[column],\n",
    "        '\\nTotal Sum: ', total_sum,\n",
    "        '\\nAverage: ', total_sum/len(rows),\n",
    "        end='\\n\\n')\n"
   ]
  },
  {
   "cell_type": "code",
   "execution_count": 0,
   "metadata": {
    "colab": {},
    "colab_type": "code",
    "id": "MNm3lTZ3NGvT"
   },
   "outputs": [],
   "source": []
  },
  {
   "cell_type": "code",
   "execution_count": 0,
   "metadata": {
    "colab": {},
    "colab_type": "code",
    "id": "897sjOkgNGrO"
   },
   "outputs": [],
   "source": []
  },
  {
   "cell_type": "code",
   "execution_count": 0,
   "metadata": {
    "colab": {},
    "colab_type": "code",
    "id": "KfZRd5jmNGo-"
   },
   "outputs": [],
   "source": []
  },
  {
   "cell_type": "code",
   "execution_count": 0,
   "metadata": {
    "colab": {},
    "colab_type": "code",
    "id": "ujJ7IGveNGkb"
   },
   "outputs": [],
   "source": []
  },
  {
   "cell_type": "code",
   "execution_count": 0,
   "metadata": {
    "colab": {},
    "colab_type": "code",
    "id": "Dx7hY3mUNGZE"
   },
   "outputs": [],
   "source": []
  },
  {
   "cell_type": "code",
   "execution_count": 0,
   "metadata": {
    "colab": {},
    "colab_type": "code",
    "id": "8aTFICSa7qFb"
   },
   "outputs": [],
   "source": [
    "import csv\n",
    "\n",
    "def csv_open(*args, **kwargs):\n",
    "  ''' csv-open'''\n",
    "  \n",
    "  # Initialize\n",
    "  print('', end='\\n\\n')\n",
    "\n",
    "\n",
    "\n",
    "  # Function Block\n",
    "  try:\n",
    "    \n",
    "    return args\n",
    "\n",
    "  # Error Handler\n",
    "  except BaseException as e:\n",
    "    error_msg = 'Error: \\n' + e\n",
    "    print(error_msg, end='\\n\\n')\n",
    "    return error_msg\n",
    "\n",
    "  # Clean up block\n",
    "  finally:\n",
    "    pass\n",
    "\n"
   ]
  },
  {
   "cell_type": "code",
   "execution_count": 0,
   "metadata": {
    "colab": {},
    "colab_type": "code",
    "id": "RmAWu8KK7p98"
   },
   "outputs": [],
   "source": [
    "# Web Application"
   ]
  },
  {
   "cell_type": "code",
   "execution_count": 0,
   "metadata": {
    "colab": {
     "base_uri": "https://localhost:8080/",
     "height": 34
    },
    "colab_type": "code",
    "id": "fi5ouxTr7pue",
    "outputId": "1480b377-59ff-4613-884c-420e469b1988"
   },
   "outputs": [
    {
     "name": "stdout",
     "output_type": "stream",
     "text": [
      "172.28.0.2\n"
     ]
    }
   ],
   "source": [
    "from urllib.request import urlopen\n",
    "import requests\n",
    "import os\n",
    "\n",
    "url = 'http://www.google.com'\n",
    "\n",
    "html = urlopen(url)\n",
    "\n",
    "import socket; s = socket.socket(socket.AF_INET, socket.SOCK_DGRAM);s.connect((\"8.8.8.8\", 80));print(s.getsockname()[0])\n"
   ]
  },
  {
   "cell_type": "code",
   "execution_count": 0,
   "metadata": {
    "colab": {},
    "colab_type": "code",
    "id": "M3XPkAp9UNEh"
   },
   "outputs": [],
   "source": []
  },
  {
   "cell_type": "code",
   "execution_count": 0,
   "metadata": {
    "colab": {},
    "colab_type": "code",
    "id": "jEAMLzIaUM_T"
   },
   "outputs": [],
   "source": []
  },
  {
   "cell_type": "code",
   "execution_count": 0,
   "metadata": {
    "colab": {},
    "colab_type": "code",
    "id": "6SdHvEZuUM8R"
   },
   "outputs": [],
   "source": []
  },
  {
   "cell_type": "code",
   "execution_count": 0,
   "metadata": {
    "colab": {},
    "colab_type": "code",
    "id": "X0sjr-DdUM5v"
   },
   "outputs": [],
   "source": [
    "# Python Yield Function - Function continues running\n",
    "\n",
    "def nextSquare(): \n",
    "    i = 1; \n",
    "  \n",
    "    # An Infinite loop to generate squares  \n",
    "    while True: \n",
    "        yield i*i                 \n",
    "        i += 1  # Next execution resumes  \n",
    "                # from this point      \n",
    "  \n",
    "# Driver code to test above generator  \n",
    "# function \n",
    "for num in nextSquare(): \n",
    "    if num > 100: \n",
    "         break    \n",
    "    print(num)"
   ]
  },
  {
   "cell_type": "code",
   "execution_count": 0,
   "metadata": {
    "colab": {},
    "colab_type": "code",
    "id": "ASBJqDGkUMv8"
   },
   "outputs": [],
   "source": []
  },
  {
   "cell_type": "code",
   "execution_count": 0,
   "metadata": {
    "colab": {},
    "colab_type": "code",
    "id": "Y5MhlpQkBJ0e"
   },
   "outputs": [],
   "source": []
  },
  {
   "cell_type": "code",
   "execution_count": 0,
   "metadata": {
    "colab": {},
    "colab_type": "code",
    "id": "z4w7MttoBJn9"
   },
   "outputs": [],
   "source": []
  },
  {
   "cell_type": "markdown",
   "metadata": {
    "colab_type": "text",
    "id": "fMO2GdcuUAvv"
   },
   "source": [
    "# Python Unit Test"
   ]
  },
  {
   "cell_type": "code",
   "execution_count": 8,
   "metadata": {
    "ExecuteTime": {
     "end_time": "2019-11-22T08:58:47.933317Z",
     "start_time": "2019-11-22T08:58:47.920329Z"
    },
    "colab": {
     "base_uri": "https://localhost:8080/",
     "height": 243
    },
    "colab_type": "code",
    "id": "JhrlTCvNBJMO",
    "outputId": "445471ac-ce22-4455-d138-b7b231b3b001"
   },
   "outputs": [
    {
     "name": "stderr",
     "output_type": "stream",
     "text": [
      "..\n",
      "----------------------------------------------------------------------\n",
      "Ran 2 tests in 0.004s\n",
      "\n",
      "OK\n"
     ]
    }
   ],
   "source": [
    "import unittest\n",
    "\n",
    "def add(a,b):\n",
    "  return a+b\n",
    "\n",
    "class TestDemo(unittest.TestCase):\n",
    "    \"\"\"Python Unit Test Demo.\"\"\"\n",
    "    \n",
    "    def test_pass(self):\n",
    "        self.assertEqual(add(2,2), 4)\n",
    "\n",
    "    def test_fail(self):\n",
    "        self.assertEqual(add(2,2), 4)\n",
    "\n",
    "if __name__ == '__main__':\n",
    "    unittest.main(argv=[''], exit=False)"
   ]
  },
  {
   "cell_type": "code",
   "execution_count": null,
   "metadata": {},
   "outputs": [],
   "source": []
  },
  {
   "cell_type": "code",
   "execution_count": null,
   "metadata": {},
   "outputs": [],
   "source": []
  },
  {
   "cell_type": "code",
   "execution_count": null,
   "metadata": {},
   "outputs": [],
   "source": []
  },
  {
   "cell_type": "code",
   "execution_count": null,
   "metadata": {},
   "outputs": [],
   "source": []
  }
 ],
 "metadata": {
  "colab": {
   "name": "PyOffice.ipynb",
   "provenance": [],
   "toc_visible": true
  },
  "hide_input": false,
  "kernelspec": {
   "display_name": "Python 3",
   "language": "python",
   "name": "python3"
  },
  "language_info": {
   "codemirror_mode": {
    "name": "ipython",
    "version": 3
   },
   "file_extension": ".py",
   "mimetype": "text/x-python",
   "name": "python",
   "nbconvert_exporter": "python",
   "pygments_lexer": "ipython3",
   "version": "3.7.4"
  },
  "latex_envs": {
   "LaTeX_envs_menu_present": true,
   "autoclose": false,
   "autocomplete": true,
   "bibliofile": "biblio.bib",
   "cite_by": "apalike",
   "current_citInitial": 1,
   "eqLabelWithNumbers": true,
   "eqNumInitial": 1,
   "hotkeys": {
    "equation": "Ctrl-E",
    "itemize": "Ctrl-I"
   },
   "labels_anchors": false,
   "latex_user_defs": false,
   "report_style_numbering": false,
   "user_envs_cfg": false
  },
  "nbTranslate": {
   "displayLangs": [
    "*"
   ],
   "hotkey": "alt-t",
   "langInMainMenu": true,
   "sourceLang": "en",
   "targetLang": "sp",
   "useGoogleTranslate": true
  },
  "toc": {
   "base_numbering": 1,
   "nav_menu": {},
   "number_sections": true,
   "sideBar": true,
   "skip_h1_title": false,
   "title_cell": "Table of Contents",
   "title_sidebar": "Contents",
   "toc_cell": false,
   "toc_position": {},
   "toc_section_display": true,
   "toc_window_display": false
  },
  "varInspector": {
   "cols": {
    "lenName": 16,
    "lenType": 16,
    "lenVar": 40
   },
   "kernels_config": {
    "python": {
     "delete_cmd_postfix": "",
     "delete_cmd_prefix": "del ",
     "library": "var_list.py",
     "varRefreshCmd": "print(var_dic_list())"
    },
    "r": {
     "delete_cmd_postfix": ") ",
     "delete_cmd_prefix": "rm(",
     "library": "var_list.r",
     "varRefreshCmd": "cat(var_dic_list()) "
    }
   },
   "types_to_exclude": [
    "module",
    "function",
    "builtin_function_or_method",
    "instance",
    "_Feature"
   ],
   "window_display": false
  }
 },
 "nbformat": 4,
 "nbformat_minor": 1
}
